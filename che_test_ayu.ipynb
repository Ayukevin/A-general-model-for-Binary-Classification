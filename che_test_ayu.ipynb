{
 "cells": [
  {
   "cell_type": "markdown",
   "metadata": {},
   "source": [
    "# Read All Dataset CSV"
   ]
  },
  {
   "cell_type": "code",
   "execution_count": 28,
   "metadata": {},
   "outputs": [],
   "source": [
    "import os\n",
    "import csv\n",
    "import pandas as pd\n",
    "import numpy as np"
   ]
  },
  {
   "cell_type": "code",
   "execution_count": 29,
   "metadata": {},
   "outputs": [],
   "source": [
    "from sklearn.preprocessing import LabelEncoder\n",
    "from sklearn.preprocessing import StandardScaler\n",
    "from sklearn.preprocessing import OneHotEncoder\n",
    "from sklearn.preprocessing import MinMaxScaler"
   ]
  },
  {
   "cell_type": "code",
   "execution_count": 30,
   "metadata": {},
   "outputs": [
    {
     "name": "stdout",
     "output_type": "stream",
     "text": [
      "Dataset_12 的特徵數量：5\n",
      "Dataset_45 的特徵數量：5\n"
     ]
    }
   ],
   "source": [
    "dataset_names=[]\n",
    "X_trains=[]\n",
    "y_trains=[]\n",
    "X_tests=[]\n",
    "\n",
    "for folder_name in os.listdir(\"./Competition_data\"):\n",
    "    \n",
    "    x_train = pd.read_csv(f\"./Competition_data/{folder_name}/X_train.csv\",header=0)\n",
    "    y_train = pd.read_csv(f\"./Competition_data/{folder_name}/y_train.csv\",header=0)\n",
    "    x_test = pd.read_csv(f\"./Competition_data/{folder_name}/X_test.csv\",header=0)  \n",
    "    \n",
    "    # Initialize Encoder\n",
    "    label_encoder = LabelEncoder()\n",
    "    OneHotEncoder_encoder = OneHotEncoder()\n",
    "    standard_encoder = StandardScaler()\n",
    "    minmax_encoder = MinMaxScaler()\n",
    "\n",
    "    # seperate the categorical columns and numerical columns\n",
    "    numerical_columns = []\n",
    "    categorical_columns = []\n",
    "    for i in x_train.columns:\n",
    "        if x_train[i].dtype == 'float64':\n",
    "            numerical_columns.append(i)\n",
    "        else:\n",
    "            categorical_columns.append(i)\n",
    "            \n",
    "    # copy to avoid changing the original data\n",
    "    X_train_encoded = x_train.copy()\n",
    "    X_test_encoded = x_test.copy()\n",
    "\n",
    "\n",
    "    for col in categorical_columns:\n",
    "        # Fit the one hot encoder on the combined data of train and test to avoid unseen labels\n",
    "        combined_data = pd.concat([x_train[col], x_test[col]], axis=0)\n",
    "        OneHotEncoder_encoder.fit(combined_data.values.reshape(-1, 1))\n",
    "\n",
    "        # Transform the train and test data\n",
    "        train_encoded = OneHotEncoder_encoder.transform(x_train[col].values.reshape(-1, 1)).toarray()\n",
    "        test_encoded = OneHotEncoder_encoder.transform(x_test[col].values.reshape(-1, 1)).toarray()\n",
    "\n",
    "        # Create new column names for the one hot encoded columns\n",
    "        train_encoded_df = pd.DataFrame(train_encoded, columns=[f\"{col}_{int(i)}\" for i in range(train_encoded.shape[1])])\n",
    "        test_encoded_df = pd.DataFrame(test_encoded, columns=[f\"{col}_{int(i)}\" for i in range(test_encoded.shape[1])])\n",
    "\n",
    "        # Concatenate the new one hot encoded columns to the original dataframe\n",
    "        X_train_encoded = pd.concat([X_train_encoded, train_encoded_df], axis=1)\n",
    "        X_test_encoded = pd.concat([X_test_encoded, test_encoded_df], axis=1)\n",
    "\n",
    "        # print(f\"刪除前 X_train_encoded 行數: {X_train_encoded.shape[0]}\")\n",
    "        # print(f\"刪除前 X_test_encoded 行數: {X_test_encoded.shape[0]}\")\n",
    "        # print(f\"y_train 行數: {y_train.shape[0]}\")\n",
    "\n",
    "        # Drop the original categorical columns\n",
    "        X_train_encoded.drop(columns=[col], inplace=True)\n",
    "        X_test_encoded.drop(columns=[col], inplace=True)\n",
    "\n",
    "        # print(f\"刪除後 X_train_encoded 行數: {X_train_encoded.shape[0]}\")\n",
    "        # print(f\"刪除後 X_test_encoded 行數: {X_test_encoded.shape[0]}\")\n",
    "        # print(f\"y_train 行數: {y_train.shape[0]}\")\n",
    "\n",
    "\n",
    "    # for col in categorical_columns:\n",
    "    #     # Fit the label encoder on the combined data of train and test to avoid unseen labels\n",
    "    #     combined_data = pd.concat([x_train[col], x_test[col]], axis=0)\n",
    "    #     label_encoder.fit(combined_data)\n",
    "\n",
    "    #     X_train_encoded[col] = label_encoder.transform(x_train[col])\n",
    "    #     X_test_encoded[col] = label_encoder.transform(x_test[col])\n",
    "\n",
    "    ##  == apply standard scaler to numerical columns == ##\n",
    "    # for col in numerical_columns:\n",
    "    #     combined_data = pd.concat([x_train[col], x_test[col]], axis=0)\n",
    "    #     standard_encoder.fit(combined_data.values.reshape(-1, 1))\n",
    "\n",
    "    #     X_train_encoded[col] = standard_encoder.fit_transform(x_train[col].values.reshape(-1, 1))\n",
    "    #     X_test_encoded[col] = standard_encoder.transform(x_test[col].values.reshape(-1, 1))\n",
    "\n",
    "    ##  == apply minmax scaler to numerical columns cuz we use XGBOOST and RF== ##\n",
    "    for col in numerical_columns:\n",
    "        combined_data = pd.concat([x_train[col], x_test[col]], axis=0)\n",
    "        minmax_encoder.fit(combined_data.values.reshape(-1, 1))\n",
    "        standard_encoder.fit(combined_data.values.reshape(-1, 1))\n",
    "\n",
    "        # print(f\"執行前 X_train_encoded 行數: {X_train_encoded.shape[0]}\")\n",
    "        # print(f\"執行前 X_test_encoded 行數: {X_test_encoded.shape[0]}\")\n",
    "        # print(f\"y_train 行數: {y_train.shape[0]}\")\n",
    "\n",
    "        X_train_encoded[col] = standard_encoder.transform(x_train[col].values.reshape(-1, 1))\n",
    "        X_test_encoded[col] = standard_encoder.transform(x_test[col].values.reshape(-1, 1))\n",
    "\n",
    "        # print(f\"執行後 X_train_encoded 行數: {X_train_encoded.shape[0]}\")\n",
    "        # print(f\"執行後 X_test_encoded 行數: {X_test_encoded.shape[0]}\")\n",
    "        # print(f\"y_train 行數: {y_train.shape[0]}\")\n",
    "\n",
    "    dataset_names.append(folder_name)\n",
    "    X_trains.append(X_train_encoded)\n",
    "    y_trains.append(y_train)\n",
    "    X_tests.append(X_test_encoded)\n",
    "\n",
    "    # print(f\"最後 X_train_encoded 行數: {X_train_encoded.shape[0]}\")\n",
    "    # print(f\"最後 X_test_encoded 行數: {X_test_encoded.shape[0]}\")\n",
    "    # print(f\"y_train 行數: {y_train.shape[0]}\")\n",
    "\n",
    "    # 假設 X_train 是 pandas DataFrame\n",
    "    if X_train_encoded.shape[1] == 5:\n",
    "        print(f\"{folder_name} 的特徵數量：{X_train_encoded.shape[1]}\")\n",
    "\n",
    "\n",
    "        "
   ]
  },
  {
   "cell_type": "code",
   "execution_count": 31,
   "metadata": {},
   "outputs": [
    {
     "data": {
      "text/html": [
       "<div>\n",
       "<style scoped>\n",
       "    .dataframe tbody tr th:only-of-type {\n",
       "        vertical-align: middle;\n",
       "    }\n",
       "\n",
       "    .dataframe tbody tr th {\n",
       "        vertical-align: top;\n",
       "    }\n",
       "\n",
       "    .dataframe thead th {\n",
       "        text-align: right;\n",
       "    }\n",
       "</style>\n",
       "<table border=\"1\" class=\"dataframe\">\n",
       "  <thead>\n",
       "    <tr style=\"text-align: right;\">\n",
       "      <th></th>\n",
       "      <th>Feature_1</th>\n",
       "      <th>Feature_2</th>\n",
       "      <th>Feature_3</th>\n",
       "      <th>Feature_4</th>\n",
       "      <th>Feature_5</th>\n",
       "      <th>Feature_6</th>\n",
       "      <th>Feature_7</th>\n",
       "      <th>Feature_8</th>\n",
       "      <th>Feature_9</th>\n",
       "      <th>Feature_10</th>\n",
       "      <th>...</th>\n",
       "      <th>Feature_53</th>\n",
       "      <th>Feature_54</th>\n",
       "      <th>Feature_55</th>\n",
       "      <th>Feature_56</th>\n",
       "      <th>Feature_57</th>\n",
       "      <th>Feature_58</th>\n",
       "      <th>Feature_59</th>\n",
       "      <th>Feature_60</th>\n",
       "      <th>Feature_61</th>\n",
       "      <th>Feature_62</th>\n",
       "    </tr>\n",
       "  </thead>\n",
       "  <tbody>\n",
       "    <tr>\n",
       "      <th>0</th>\n",
       "      <td>0.351261</td>\n",
       "      <td>1.207240</td>\n",
       "      <td>0.135958</td>\n",
       "      <td>0.242688</td>\n",
       "      <td>-0.858897</td>\n",
       "      <td>-0.771404</td>\n",
       "      <td>-0.455132</td>\n",
       "      <td>-0.658039</td>\n",
       "      <td>-0.332705</td>\n",
       "      <td>-0.719155</td>\n",
       "      <td>...</td>\n",
       "      <td>0.472852</td>\n",
       "      <td>0.729806</td>\n",
       "      <td>0.131270</td>\n",
       "      <td>-0.203246</td>\n",
       "      <td>0.553749</td>\n",
       "      <td>-0.144889</td>\n",
       "      <td>0.368862</td>\n",
       "      <td>0.191717</td>\n",
       "      <td>-1.307456</td>\n",
       "      <td>-0.522045</td>\n",
       "    </tr>\n",
       "    <tr>\n",
       "      <th>1</th>\n",
       "      <td>0.146021</td>\n",
       "      <td>-0.283866</td>\n",
       "      <td>-0.042948</td>\n",
       "      <td>0.011500</td>\n",
       "      <td>-0.152761</td>\n",
       "      <td>-0.771404</td>\n",
       "      <td>-0.455132</td>\n",
       "      <td>0.606812</td>\n",
       "      <td>-0.216846</td>\n",
       "      <td>-0.701868</td>\n",
       "      <td>...</td>\n",
       "      <td>0.157500</td>\n",
       "      <td>0.017003</td>\n",
       "      <td>0.162032</td>\n",
       "      <td>0.716117</td>\n",
       "      <td>0.124697</td>\n",
       "      <td>0.690110</td>\n",
       "      <td>0.068692</td>\n",
       "      <td>-0.205254</td>\n",
       "      <td>-0.615322</td>\n",
       "      <td>0.354240</td>\n",
       "    </tr>\n",
       "    <tr>\n",
       "      <th>2</th>\n",
       "      <td>0.058929</td>\n",
       "      <td>-0.377195</td>\n",
       "      <td>0.237230</td>\n",
       "      <td>0.161437</td>\n",
       "      <td>0.396371</td>\n",
       "      <td>-0.771404</td>\n",
       "      <td>-0.455132</td>\n",
       "      <td>1.882025</td>\n",
       "      <td>-0.160566</td>\n",
       "      <td>-0.052238</td>\n",
       "      <td>...</td>\n",
       "      <td>0.416841</td>\n",
       "      <td>-0.885216</td>\n",
       "      <td>0.472506</td>\n",
       "      <td>-0.690605</td>\n",
       "      <td>0.457575</td>\n",
       "      <td>-1.329023</td>\n",
       "      <td>0.395496</td>\n",
       "      <td>0.048722</td>\n",
       "      <td>-0.158371</td>\n",
       "      <td>-0.069426</td>\n",
       "    </tr>\n",
       "    <tr>\n",
       "      <th>3</th>\n",
       "      <td>-0.289902</td>\n",
       "      <td>-0.199625</td>\n",
       "      <td>0.171004</td>\n",
       "      <td>0.824269</td>\n",
       "      <td>0.139059</td>\n",
       "      <td>-0.771404</td>\n",
       "      <td>-0.455132</td>\n",
       "      <td>0.216440</td>\n",
       "      <td>0.264733</td>\n",
       "      <td>-0.713953</td>\n",
       "      <td>...</td>\n",
       "      <td>-0.326205</td>\n",
       "      <td>0.802435</td>\n",
       "      <td>-0.466333</td>\n",
       "      <td>-0.160117</td>\n",
       "      <td>-0.241765</td>\n",
       "      <td>-0.326395</td>\n",
       "      <td>-0.294211</td>\n",
       "      <td>-0.619656</td>\n",
       "      <td>-0.336467</td>\n",
       "      <td>0.962747</td>\n",
       "    </tr>\n",
       "    <tr>\n",
       "      <th>4</th>\n",
       "      <td>-0.082412</td>\n",
       "      <td>-0.762542</td>\n",
       "      <td>0.162819</td>\n",
       "      <td>-0.089574</td>\n",
       "      <td>0.170969</td>\n",
       "      <td>-0.771404</td>\n",
       "      <td>-0.455132</td>\n",
       "      <td>1.844063</td>\n",
       "      <td>-0.205472</td>\n",
       "      <td>-0.130795</td>\n",
       "      <td>...</td>\n",
       "      <td>-0.168188</td>\n",
       "      <td>0.767954</td>\n",
       "      <td>-0.209740</td>\n",
       "      <td>0.634837</td>\n",
       "      <td>-0.148502</td>\n",
       "      <td>-0.230727</td>\n",
       "      <td>-0.080675</td>\n",
       "      <td>-0.651531</td>\n",
       "      <td>0.343263</td>\n",
       "      <td>0.485903</td>\n",
       "    </tr>\n",
       "    <tr>\n",
       "      <th>5</th>\n",
       "      <td>-0.205522</td>\n",
       "      <td>0.101658</td>\n",
       "      <td>0.111767</td>\n",
       "      <td>0.963316</td>\n",
       "      <td>-0.858897</td>\n",
       "      <td>-0.771404</td>\n",
       "      <td>-0.455132</td>\n",
       "      <td>-0.658039</td>\n",
       "      <td>-0.332705</td>\n",
       "      <td>1.829064</td>\n",
       "      <td>...</td>\n",
       "      <td>-0.167028</td>\n",
       "      <td>0.196127</td>\n",
       "      <td>-0.253508</td>\n",
       "      <td>-0.631293</td>\n",
       "      <td>0.067811</td>\n",
       "      <td>-0.900679</td>\n",
       "      <td>-0.128111</td>\n",
       "      <td>-0.229020</td>\n",
       "      <td>-0.712052</td>\n",
       "      <td>-3.279501</td>\n",
       "    </tr>\n",
       "    <tr>\n",
       "      <th>6</th>\n",
       "      <td>-1.104780</td>\n",
       "      <td>-1.080054</td>\n",
       "      <td>0.050579</td>\n",
       "      <td>1.935771</td>\n",
       "      <td>0.000795</td>\n",
       "      <td>-0.771404</td>\n",
       "      <td>-0.455132</td>\n",
       "      <td>0.935567</td>\n",
       "      <td>-0.178769</td>\n",
       "      <td>3.184605</td>\n",
       "      <td>...</td>\n",
       "      <td>-1.130226</td>\n",
       "      <td>-1.071201</td>\n",
       "      <td>-1.067378</td>\n",
       "      <td>-1.093605</td>\n",
       "      <td>-1.162526</td>\n",
       "      <td>-1.277752</td>\n",
       "      <td>-1.019317</td>\n",
       "      <td>0.040327</td>\n",
       "      <td>2.174720</td>\n",
       "      <td>-0.669766</td>\n",
       "    </tr>\n",
       "    <tr>\n",
       "      <th>7</th>\n",
       "      <td>-0.665158</td>\n",
       "      <td>-1.080054</td>\n",
       "      <td>-0.712797</td>\n",
       "      <td>1.414738</td>\n",
       "      <td>1.112980</td>\n",
       "      <td>1.622937</td>\n",
       "      <td>-0.455132</td>\n",
       "      <td>1.104621</td>\n",
       "      <td>0.316113</td>\n",
       "      <td>-0.220445</td>\n",
       "      <td>...</td>\n",
       "      <td>-0.665368</td>\n",
       "      <td>-0.833679</td>\n",
       "      <td>-0.585484</td>\n",
       "      <td>-0.249701</td>\n",
       "      <td>-0.699567</td>\n",
       "      <td>-1.033302</td>\n",
       "      <td>-0.594150</td>\n",
       "      <td>0.564346</td>\n",
       "      <td>2.174720</td>\n",
       "      <td>-0.128129</td>\n",
       "    </tr>\n",
       "    <tr>\n",
       "      <th>8</th>\n",
       "      <td>0.127655</td>\n",
       "      <td>0.123118</td>\n",
       "      <td>-1.410327</td>\n",
       "      <td>0.715074</td>\n",
       "      <td>0.711279</td>\n",
       "      <td>-0.106227</td>\n",
       "      <td>-0.455132</td>\n",
       "      <td>-0.658039</td>\n",
       "      <td>0.850842</td>\n",
       "      <td>-0.713283</td>\n",
       "      <td>...</td>\n",
       "      <td>0.024056</td>\n",
       "      <td>0.763092</td>\n",
       "      <td>-0.026359</td>\n",
       "      <td>1.511007</td>\n",
       "      <td>-0.297880</td>\n",
       "      <td>0.795236</td>\n",
       "      <td>0.041212</td>\n",
       "      <td>-3.811996</td>\n",
       "      <td>-2.223358</td>\n",
       "      <td>-0.561733</td>\n",
       "    </tr>\n",
       "    <tr>\n",
       "      <th>9</th>\n",
       "      <td>-0.258909</td>\n",
       "      <td>-0.392256</td>\n",
       "      <td>-1.149244</td>\n",
       "      <td>1.202427</td>\n",
       "      <td>4.218474</td>\n",
       "      <td>0.000426</td>\n",
       "      <td>-0.455132</td>\n",
       "      <td>1.480735</td>\n",
       "      <td>5.274918</td>\n",
       "      <td>-0.394942</td>\n",
       "      <td>...</td>\n",
       "      <td>-0.360877</td>\n",
       "      <td>0.743720</td>\n",
       "      <td>-0.407714</td>\n",
       "      <td>0.575987</td>\n",
       "      <td>-0.413671</td>\n",
       "      <td>0.497023</td>\n",
       "      <td>-0.304464</td>\n",
       "      <td>-0.256905</td>\n",
       "      <td>0.174035</td>\n",
       "      <td>0.154651</td>\n",
       "    </tr>\n",
       "    <tr>\n",
       "      <th>10</th>\n",
       "      <td>0.104137</td>\n",
       "      <td>-0.684454</td>\n",
       "      <td>1.792119</td>\n",
       "      <td>-1.966506</td>\n",
       "      <td>-0.858897</td>\n",
       "      <td>-0.771404</td>\n",
       "      <td>-0.455132</td>\n",
       "      <td>-0.658039</td>\n",
       "      <td>-0.332705</td>\n",
       "      <td>-0.343575</td>\n",
       "      <td>...</td>\n",
       "      <td>0.302822</td>\n",
       "      <td>-0.317586</td>\n",
       "      <td>0.229691</td>\n",
       "      <td>-0.607658</td>\n",
       "      <td>0.476556</td>\n",
       "      <td>-0.531591</td>\n",
       "      <td>0.165278</td>\n",
       "      <td>0.383755</td>\n",
       "      <td>-0.321231</td>\n",
       "      <td>-0.478158</td>\n",
       "    </tr>\n",
       "    <tr>\n",
       "      <th>11</th>\n",
       "      <td>-0.400903</td>\n",
       "      <td>-1.080054</td>\n",
       "      <td>1.123184</td>\n",
       "      <td>-0.271998</td>\n",
       "      <td>0.237638</td>\n",
       "      <td>1.378397</td>\n",
       "      <td>-0.455132</td>\n",
       "      <td>1.483555</td>\n",
       "      <td>-0.185945</td>\n",
       "      <td>0.406912</td>\n",
       "      <td>...</td>\n",
       "      <td>-0.229631</td>\n",
       "      <td>-3.762444</td>\n",
       "      <td>0.031501</td>\n",
       "      <td>-1.279493</td>\n",
       "      <td>0.214274</td>\n",
       "      <td>-4.635589</td>\n",
       "      <td>-0.140977</td>\n",
       "      <td>0.798902</td>\n",
       "      <td>2.174720</td>\n",
       "      <td>-0.740758</td>\n",
       "    </tr>\n",
       "    <tr>\n",
       "      <th>12</th>\n",
       "      <td>-0.120946</td>\n",
       "      <td>0.312523</td>\n",
       "      <td>0.614849</td>\n",
       "      <td>0.216817</td>\n",
       "      <td>-0.366885</td>\n",
       "      <td>0.804837</td>\n",
       "      <td>0.562224</td>\n",
       "      <td>-0.658039</td>\n",
       "      <td>-0.332705</td>\n",
       "      <td>0.007823</td>\n",
       "      <td>...</td>\n",
       "      <td>-0.197463</td>\n",
       "      <td>0.181355</td>\n",
       "      <td>-0.157709</td>\n",
       "      <td>1.377278</td>\n",
       "      <td>-0.504910</td>\n",
       "      <td>-0.173826</td>\n",
       "      <td>-0.124900</td>\n",
       "      <td>-0.494591</td>\n",
       "      <td>-0.961074</td>\n",
       "      <td>-0.772806</td>\n",
       "    </tr>\n",
       "    <tr>\n",
       "      <th>13</th>\n",
       "      <td>0.161810</td>\n",
       "      <td>0.852911</td>\n",
       "      <td>0.507185</td>\n",
       "      <td>0.239616</td>\n",
       "      <td>-0.715629</td>\n",
       "      <td>-0.283408</td>\n",
       "      <td>0.717636</td>\n",
       "      <td>-0.658039</td>\n",
       "      <td>-0.332705</td>\n",
       "      <td>-0.604077</td>\n",
       "      <td>...</td>\n",
       "      <td>0.164497</td>\n",
       "      <td>0.295619</td>\n",
       "      <td>0.097973</td>\n",
       "      <td>0.454674</td>\n",
       "      <td>0.258530</td>\n",
       "      <td>0.579255</td>\n",
       "      <td>0.095540</td>\n",
       "      <td>0.169805</td>\n",
       "      <td>-0.498064</td>\n",
       "      <td>0.053886</td>\n",
       "    </tr>\n",
       "    <tr>\n",
       "      <th>14</th>\n",
       "      <td>0.588070</td>\n",
       "      <td>-0.424601</td>\n",
       "      <td>0.421203</td>\n",
       "      <td>0.087249</td>\n",
       "      <td>-0.858897</td>\n",
       "      <td>-0.771404</td>\n",
       "      <td>-0.455132</td>\n",
       "      <td>-0.658039</td>\n",
       "      <td>-0.332705</td>\n",
       "      <td>-0.467018</td>\n",
       "      <td>...</td>\n",
       "      <td>0.637696</td>\n",
       "      <td>0.082625</td>\n",
       "      <td>0.614818</td>\n",
       "      <td>1.196206</td>\n",
       "      <td>0.270931</td>\n",
       "      <td>0.546806</td>\n",
       "      <td>0.486675</td>\n",
       "      <td>-0.812135</td>\n",
       "      <td>0.019689</td>\n",
       "      <td>0.176365</td>\n",
       "    </tr>\n",
       "    <tr>\n",
       "      <th>15</th>\n",
       "      <td>0.827992</td>\n",
       "      <td>-0.292618</td>\n",
       "      <td>1.037425</td>\n",
       "      <td>-0.920358</td>\n",
       "      <td>-0.696742</td>\n",
       "      <td>-0.337212</td>\n",
       "      <td>-0.455132</td>\n",
       "      <td>-0.658039</td>\n",
       "      <td>-0.332705</td>\n",
       "      <td>-0.669538</td>\n",
       "      <td>...</td>\n",
       "      <td>0.751056</td>\n",
       "      <td>0.640170</td>\n",
       "      <td>0.731622</td>\n",
       "      <td>0.636448</td>\n",
       "      <td>0.692237</td>\n",
       "      <td>1.303733</td>\n",
       "      <td>0.646629</td>\n",
       "      <td>0.292799</td>\n",
       "      <td>-0.039289</td>\n",
       "      <td>0.793967</td>\n",
       "    </tr>\n",
       "    <tr>\n",
       "      <th>16</th>\n",
       "      <td>1.113478</td>\n",
       "      <td>-0.057606</td>\n",
       "      <td>-1.410327</td>\n",
       "      <td>0.209343</td>\n",
       "      <td>-0.858897</td>\n",
       "      <td>-0.771404</td>\n",
       "      <td>-0.455132</td>\n",
       "      <td>-0.658039</td>\n",
       "      <td>-0.332705</td>\n",
       "      <td>-0.696648</td>\n",
       "      <td>...</td>\n",
       "      <td>1.079803</td>\n",
       "      <td>0.392961</td>\n",
       "      <td>1.105412</td>\n",
       "      <td>-0.384457</td>\n",
       "      <td>1.178262</td>\n",
       "      <td>1.323836</td>\n",
       "      <td>0.958167</td>\n",
       "      <td>0.750047</td>\n",
       "      <td>-0.224955</td>\n",
       "      <td>-0.196325</td>\n",
       "    </tr>\n",
       "    <tr>\n",
       "      <th>17</th>\n",
       "      <td>-0.827025</td>\n",
       "      <td>-0.701170</td>\n",
       "      <td>-0.800591</td>\n",
       "      <td>-0.537006</td>\n",
       "      <td>-0.691990</td>\n",
       "      <td>0.224626</td>\n",
       "      <td>0.664966</td>\n",
       "      <td>-0.658039</td>\n",
       "      <td>-0.332705</td>\n",
       "      <td>-0.164997</td>\n",
       "      <td>...</td>\n",
       "      <td>-0.935454</td>\n",
       "      <td>0.216553</td>\n",
       "      <td>-0.908927</td>\n",
       "      <td>-0.856228</td>\n",
       "      <td>-0.687612</td>\n",
       "      <td>-0.329791</td>\n",
       "      <td>-0.824506</td>\n",
       "      <td>0.690238</td>\n",
       "      <td>0.428695</td>\n",
       "      <td>0.555347</td>\n",
       "    </tr>\n",
       "    <tr>\n",
       "      <th>18</th>\n",
       "      <td>4.014335</td>\n",
       "      <td>-0.062828</td>\n",
       "      <td>-1.410327</td>\n",
       "      <td>-1.966506</td>\n",
       "      <td>-0.858897</td>\n",
       "      <td>-0.771404</td>\n",
       "      <td>-0.455132</td>\n",
       "      <td>-0.658039</td>\n",
       "      <td>-0.332705</td>\n",
       "      <td>-0.617131</td>\n",
       "      <td>...</td>\n",
       "      <td>4.154327</td>\n",
       "      <td>3.794384</td>\n",
       "      <td>2.163689</td>\n",
       "      <td>-0.186829</td>\n",
       "      <td>1.810625</td>\n",
       "      <td>2.823218</td>\n",
       "      <td>3.701289</td>\n",
       "      <td>0.112223</td>\n",
       "      <td>-1.185423</td>\n",
       "      <td>-0.531790</td>\n",
       "    </tr>\n",
       "    <tr>\n",
       "      <th>19</th>\n",
       "      <td>-0.173808</td>\n",
       "      <td>0.846039</td>\n",
       "      <td>-0.375442</td>\n",
       "      <td>0.590123</td>\n",
       "      <td>0.290587</td>\n",
       "      <td>1.363053</td>\n",
       "      <td>0.670277</td>\n",
       "      <td>1.137625</td>\n",
       "      <td>-0.307508</td>\n",
       "      <td>1.960132</td>\n",
       "      <td>...</td>\n",
       "      <td>-0.218133</td>\n",
       "      <td>-0.685736</td>\n",
       "      <td>-0.027062</td>\n",
       "      <td>1.565534</td>\n",
       "      <td>-0.610757</td>\n",
       "      <td>0.050627</td>\n",
       "      <td>-0.195375</td>\n",
       "      <td>-1.281017</td>\n",
       "      <td>0.232125</td>\n",
       "      <td>-0.094891</td>\n",
       "    </tr>\n",
       "    <tr>\n",
       "      <th>20</th>\n",
       "      <td>1.197566</td>\n",
       "      <td>5.022227</td>\n",
       "      <td>0.422390</td>\n",
       "      <td>-1.338175</td>\n",
       "      <td>-0.858897</td>\n",
       "      <td>-0.771404</td>\n",
       "      <td>-0.455132</td>\n",
       "      <td>-0.658039</td>\n",
       "      <td>-0.332705</td>\n",
       "      <td>-0.241655</td>\n",
       "      <td>...</td>\n",
       "      <td>1.278500</td>\n",
       "      <td>0.949009</td>\n",
       "      <td>1.106778</td>\n",
       "      <td>-0.702196</td>\n",
       "      <td>1.275160</td>\n",
       "      <td>-0.277854</td>\n",
       "      <td>1.198295</td>\n",
       "      <td>0.399416</td>\n",
       "      <td>0.189569</td>\n",
       "      <td>0.329799</td>\n",
       "    </tr>\n",
       "    <tr>\n",
       "      <th>21</th>\n",
       "      <td>-0.305945</td>\n",
       "      <td>-0.272107</td>\n",
       "      <td>-0.300188</td>\n",
       "      <td>-0.339939</td>\n",
       "      <td>0.136729</td>\n",
       "      <td>-0.707035</td>\n",
       "      <td>-0.455132</td>\n",
       "      <td>0.400531</td>\n",
       "      <td>-0.215521</td>\n",
       "      <td>-0.585524</td>\n",
       "      <td>...</td>\n",
       "      <td>-0.376809</td>\n",
       "      <td>0.130633</td>\n",
       "      <td>-0.371502</td>\n",
       "      <td>0.755817</td>\n",
       "      <td>-0.546374</td>\n",
       "      <td>0.111978</td>\n",
       "      <td>-0.342872</td>\n",
       "      <td>0.324040</td>\n",
       "      <td>0.579705</td>\n",
       "      <td>0.983025</td>\n",
       "    </tr>\n",
       "    <tr>\n",
       "      <th>22</th>\n",
       "      <td>-0.454191</td>\n",
       "      <td>-0.718157</td>\n",
       "      <td>-0.469991</td>\n",
       "      <td>0.295801</td>\n",
       "      <td>0.932625</td>\n",
       "      <td>-0.469941</td>\n",
       "      <td>-0.455132</td>\n",
       "      <td>0.873038</td>\n",
       "      <td>0.071604</td>\n",
       "      <td>-0.723087</td>\n",
       "      <td>...</td>\n",
       "      <td>-0.481233</td>\n",
       "      <td>-0.002837</td>\n",
       "      <td>-0.568576</td>\n",
       "      <td>-0.256868</td>\n",
       "      <td>-0.506644</td>\n",
       "      <td>-0.570220</td>\n",
       "      <td>-0.474956</td>\n",
       "      <td>0.023243</td>\n",
       "      <td>-1.109750</td>\n",
       "      <td>0.112792</td>\n",
       "    </tr>\n",
       "    <tr>\n",
       "      <th>23</th>\n",
       "      <td>0.992344</td>\n",
       "      <td>-0.832315</td>\n",
       "      <td>-1.410327</td>\n",
       "      <td>-0.940307</td>\n",
       "      <td>-0.858897</td>\n",
       "      <td>-0.771404</td>\n",
       "      <td>-0.455132</td>\n",
       "      <td>-0.658039</td>\n",
       "      <td>-0.332705</td>\n",
       "      <td>-0.707268</td>\n",
       "      <td>...</td>\n",
       "      <td>0.963037</td>\n",
       "      <td>0.753592</td>\n",
       "      <td>0.810796</td>\n",
       "      <td>0.420045</td>\n",
       "      <td>0.959251</td>\n",
       "      <td>0.015438</td>\n",
       "      <td>0.888759</td>\n",
       "      <td>-0.003473</td>\n",
       "      <td>0.058376</td>\n",
       "      <td>0.244257</td>\n",
       "    </tr>\n",
       "    <tr>\n",
       "      <th>24</th>\n",
       "      <td>-1.129622</td>\n",
       "      <td>-1.080054</td>\n",
       "      <td>-0.205437</td>\n",
       "      <td>0.829857</td>\n",
       "      <td>0.240822</td>\n",
       "      <td>-0.155447</td>\n",
       "      <td>-0.455132</td>\n",
       "      <td>0.771213</td>\n",
       "      <td>0.373130</td>\n",
       "      <td>0.983568</td>\n",
       "      <td>...</td>\n",
       "      <td>-1.209336</td>\n",
       "      <td>-0.059243</td>\n",
       "      <td>-1.203289</td>\n",
       "      <td>-0.801141</td>\n",
       "      <td>-1.273081</td>\n",
       "      <td>-0.117881</td>\n",
       "      <td>-1.109833</td>\n",
       "      <td>0.756805</td>\n",
       "      <td>2.174720</td>\n",
       "      <td>-0.736874</td>\n",
       "    </tr>\n",
       "    <tr>\n",
       "      <th>25</th>\n",
       "      <td>-0.203227</td>\n",
       "      <td>0.193908</td>\n",
       "      <td>-0.791048</td>\n",
       "      <td>-0.388367</td>\n",
       "      <td>0.176877</td>\n",
       "      <td>1.104696</td>\n",
       "      <td>1.283961</td>\n",
       "      <td>0.568846</td>\n",
       "      <td>-0.332705</td>\n",
       "      <td>0.890859</td>\n",
       "      <td>...</td>\n",
       "      <td>-0.260137</td>\n",
       "      <td>-0.638465</td>\n",
       "      <td>-0.078488</td>\n",
       "      <td>0.790904</td>\n",
       "      <td>-0.411100</td>\n",
       "      <td>0.558457</td>\n",
       "      <td>-0.254049</td>\n",
       "      <td>-0.189270</td>\n",
       "      <td>0.175152</td>\n",
       "      <td>0.395273</td>\n",
       "    </tr>\n",
       "    <tr>\n",
       "      <th>26</th>\n",
       "      <td>2.237034</td>\n",
       "      <td>-0.708376</td>\n",
       "      <td>-1.410327</td>\n",
       "      <td>-1.966506</td>\n",
       "      <td>-0.327546</td>\n",
       "      <td>0.387437</td>\n",
       "      <td>-0.455132</td>\n",
       "      <td>-0.658039</td>\n",
       "      <td>-0.332705</td>\n",
       "      <td>0.560385</td>\n",
       "      <td>...</td>\n",
       "      <td>2.573580</td>\n",
       "      <td>3.794384</td>\n",
       "      <td>2.457473</td>\n",
       "      <td>-1.042247</td>\n",
       "      <td>4.194172</td>\n",
       "      <td>1.696504</td>\n",
       "      <td>2.329031</td>\n",
       "      <td>1.205714</td>\n",
       "      <td>0.119253</td>\n",
       "      <td>-0.038870</td>\n",
       "    </tr>\n",
       "    <tr>\n",
       "      <th>27</th>\n",
       "      <td>-1.007208</td>\n",
       "      <td>-1.080054</td>\n",
       "      <td>3.856135</td>\n",
       "      <td>-0.497566</td>\n",
       "      <td>-0.858897</td>\n",
       "      <td>-0.771404</td>\n",
       "      <td>-0.455132</td>\n",
       "      <td>-0.658039</td>\n",
       "      <td>-0.332705</td>\n",
       "      <td>-0.572743</td>\n",
       "      <td>...</td>\n",
       "      <td>-1.088867</td>\n",
       "      <td>0.576916</td>\n",
       "      <td>-1.110529</td>\n",
       "      <td>-0.244914</td>\n",
       "      <td>-1.116926</td>\n",
       "      <td>-0.159182</td>\n",
       "      <td>-0.986660</td>\n",
       "      <td>0.508750</td>\n",
       "      <td>2.174720</td>\n",
       "      <td>-3.279501</td>\n",
       "    </tr>\n",
       "    <tr>\n",
       "      <th>28</th>\n",
       "      <td>0.494729</td>\n",
       "      <td>-0.763386</td>\n",
       "      <td>-0.012644</td>\n",
       "      <td>-0.332827</td>\n",
       "      <td>0.842625</td>\n",
       "      <td>-0.771404</td>\n",
       "      <td>-0.455132</td>\n",
       "      <td>0.961714</td>\n",
       "      <td>0.114692</td>\n",
       "      <td>0.176273</td>\n",
       "      <td>...</td>\n",
       "      <td>0.534970</td>\n",
       "      <td>-0.505396</td>\n",
       "      <td>0.702654</td>\n",
       "      <td>0.103762</td>\n",
       "      <td>0.571114</td>\n",
       "      <td>-0.187184</td>\n",
       "      <td>0.480805</td>\n",
       "      <td>0.165601</td>\n",
       "      <td>-0.406580</td>\n",
       "      <td>0.109722</td>\n",
       "    </tr>\n",
       "    <tr>\n",
       "      <th>29</th>\n",
       "      <td>-0.040835</td>\n",
       "      <td>0.466180</td>\n",
       "      <td>-0.422604</td>\n",
       "      <td>0.579185</td>\n",
       "      <td>0.852820</td>\n",
       "      <td>1.875455</td>\n",
       "      <td>4.635861</td>\n",
       "      <td>-0.502492</td>\n",
       "      <td>-0.332705</td>\n",
       "      <td>1.467426</td>\n",
       "      <td>...</td>\n",
       "      <td>-0.125969</td>\n",
       "      <td>0.289077</td>\n",
       "      <td>-0.092680</td>\n",
       "      <td>0.450583</td>\n",
       "      <td>0.021483</td>\n",
       "      <td>0.345785</td>\n",
       "      <td>-0.075170</td>\n",
       "      <td>0.142887</td>\n",
       "      <td>-1.359122</td>\n",
       "      <td>-3.279501</td>\n",
       "    </tr>\n",
       "    <tr>\n",
       "      <th>30</th>\n",
       "      <td>-0.295314</td>\n",
       "      <td>-0.155731</td>\n",
       "      <td>-0.005607</td>\n",
       "      <td>0.952561</td>\n",
       "      <td>0.307858</td>\n",
       "      <td>0.717987</td>\n",
       "      <td>0.029727</td>\n",
       "      <td>1.040223</td>\n",
       "      <td>0.193244</td>\n",
       "      <td>0.318065</td>\n",
       "      <td>...</td>\n",
       "      <td>-0.367526</td>\n",
       "      <td>-0.277665</td>\n",
       "      <td>-0.273338</td>\n",
       "      <td>0.351054</td>\n",
       "      <td>-0.401167</td>\n",
       "      <td>0.082663</td>\n",
       "      <td>-0.328488</td>\n",
       "      <td>-0.369155</td>\n",
       "      <td>-1.378187</td>\n",
       "      <td>-0.140376</td>\n",
       "    </tr>\n",
       "    <tr>\n",
       "      <th>31</th>\n",
       "      <td>-0.440247</td>\n",
       "      <td>-1.080054</td>\n",
       "      <td>1.411740</td>\n",
       "      <td>-1.966506</td>\n",
       "      <td>0.939251</td>\n",
       "      <td>-0.771404</td>\n",
       "      <td>-0.455132</td>\n",
       "      <td>0.959541</td>\n",
       "      <td>-0.332705</td>\n",
       "      <td>-0.686768</td>\n",
       "      <td>...</td>\n",
       "      <td>-0.484028</td>\n",
       "      <td>-0.964624</td>\n",
       "      <td>-0.297482</td>\n",
       "      <td>-1.371699</td>\n",
       "      <td>0.274940</td>\n",
       "      <td>-0.117178</td>\n",
       "      <td>-0.495526</td>\n",
       "      <td>1.011796</td>\n",
       "      <td>2.174720</td>\n",
       "      <td>-1.691171</td>\n",
       "    </tr>\n",
       "    <tr>\n",
       "      <th>32</th>\n",
       "      <td>0.831330</td>\n",
       "      <td>-0.577209</td>\n",
       "      <td>0.012566</td>\n",
       "      <td>-0.188937</td>\n",
       "      <td>-0.858897</td>\n",
       "      <td>-0.771404</td>\n",
       "      <td>-0.455132</td>\n",
       "      <td>-0.658039</td>\n",
       "      <td>-0.332705</td>\n",
       "      <td>-0.668871</td>\n",
       "      <td>...</td>\n",
       "      <td>0.784336</td>\n",
       "      <td>-0.039790</td>\n",
       "      <td>0.850129</td>\n",
       "      <td>0.026556</td>\n",
       "      <td>0.938131</td>\n",
       "      <td>0.661229</td>\n",
       "      <td>0.694228</td>\n",
       "      <td>0.759017</td>\n",
       "      <td>-0.688250</td>\n",
       "      <td>0.153548</td>\n",
       "    </tr>\n",
       "    <tr>\n",
       "      <th>33</th>\n",
       "      <td>-0.993215</td>\n",
       "      <td>-0.059482</td>\n",
       "      <td>0.024563</td>\n",
       "      <td>1.088267</td>\n",
       "      <td>0.215094</td>\n",
       "      <td>0.172546</td>\n",
       "      <td>-0.455132</td>\n",
       "      <td>-0.658039</td>\n",
       "      <td>-0.119839</td>\n",
       "      <td>0.885894</td>\n",
       "      <td>...</td>\n",
       "      <td>-1.048998</td>\n",
       "      <td>-1.059571</td>\n",
       "      <td>-0.949108</td>\n",
       "      <td>-0.340178</td>\n",
       "      <td>-1.079897</td>\n",
       "      <td>-1.190649</td>\n",
       "      <td>-0.918440</td>\n",
       "      <td>0.484690</td>\n",
       "      <td>-0.044999</td>\n",
       "      <td>0.858709</td>\n",
       "    </tr>\n",
       "    <tr>\n",
       "      <th>34</th>\n",
       "      <td>0.313917</td>\n",
       "      <td>-0.006729</td>\n",
       "      <td>-1.156102</td>\n",
       "      <td>0.437788</td>\n",
       "      <td>-0.419445</td>\n",
       "      <td>0.654680</td>\n",
       "      <td>0.569601</td>\n",
       "      <td>-0.658039</td>\n",
       "      <td>-0.332705</td>\n",
       "      <td>-0.349383</td>\n",
       "      <td>...</td>\n",
       "      <td>0.260087</td>\n",
       "      <td>-0.115227</td>\n",
       "      <td>0.438758</td>\n",
       "      <td>1.840373</td>\n",
       "      <td>-0.213639</td>\n",
       "      <td>0.522363</td>\n",
       "      <td>0.253393</td>\n",
       "      <td>-1.036863</td>\n",
       "      <td>-1.192632</td>\n",
       "      <td>-0.094340</td>\n",
       "    </tr>\n",
       "    <tr>\n",
       "      <th>35</th>\n",
       "      <td>-0.227773</td>\n",
       "      <td>0.764730</td>\n",
       "      <td>-0.182522</td>\n",
       "      <td>1.148682</td>\n",
       "      <td>0.132651</td>\n",
       "      <td>-0.115538</td>\n",
       "      <td>-0.455132</td>\n",
       "      <td>1.974030</td>\n",
       "      <td>-0.121364</td>\n",
       "      <td>4.344590</td>\n",
       "      <td>...</td>\n",
       "      <td>-0.266981</td>\n",
       "      <td>-0.335142</td>\n",
       "      <td>-0.176240</td>\n",
       "      <td>-0.721368</td>\n",
       "      <td>0.066533</td>\n",
       "      <td>-0.597743</td>\n",
       "      <td>-0.196180</td>\n",
       "      <td>0.883920</td>\n",
       "      <td>-0.683336</td>\n",
       "      <td>-0.659686</td>\n",
       "    </tr>\n",
       "    <tr>\n",
       "      <th>36</th>\n",
       "      <td>0.640189</td>\n",
       "      <td>-0.494492</td>\n",
       "      <td>0.996366</td>\n",
       "      <td>-0.853460</td>\n",
       "      <td>-0.767856</td>\n",
       "      <td>-0.552924</td>\n",
       "      <td>-0.455132</td>\n",
       "      <td>-0.658039</td>\n",
       "      <td>-0.332705</td>\n",
       "      <td>-0.613697</td>\n",
       "      <td>...</td>\n",
       "      <td>0.582112</td>\n",
       "      <td>-0.222653</td>\n",
       "      <td>0.724164</td>\n",
       "      <td>2.264436</td>\n",
       "      <td>0.034861</td>\n",
       "      <td>0.551932</td>\n",
       "      <td>0.525875</td>\n",
       "      <td>-0.472512</td>\n",
       "      <td>-0.842224</td>\n",
       "      <td>0.166432</td>\n",
       "    </tr>\n",
       "    <tr>\n",
       "      <th>37</th>\n",
       "      <td>0.044551</td>\n",
       "      <td>-0.170102</td>\n",
       "      <td>-0.880302</td>\n",
       "      <td>0.313512</td>\n",
       "      <td>0.631979</td>\n",
       "      <td>-0.665013</td>\n",
       "      <td>-0.455132</td>\n",
       "      <td>-0.658039</td>\n",
       "      <td>0.228270</td>\n",
       "      <td>-0.752794</td>\n",
       "      <td>...</td>\n",
       "      <td>0.023959</td>\n",
       "      <td>-0.646241</td>\n",
       "      <td>0.313002</td>\n",
       "      <td>0.867922</td>\n",
       "      <td>-0.061788</td>\n",
       "      <td>0.093640</td>\n",
       "      <td>0.022678</td>\n",
       "      <td>-0.244971</td>\n",
       "      <td>0.749009</td>\n",
       "      <td>0.625644</td>\n",
       "    </tr>\n",
       "    <tr>\n",
       "      <th>38</th>\n",
       "      <td>0.156648</td>\n",
       "      <td>-0.607750</td>\n",
       "      <td>1.239448</td>\n",
       "      <td>-1.352526</td>\n",
       "      <td>-0.858897</td>\n",
       "      <td>-0.771404</td>\n",
       "      <td>-0.455132</td>\n",
       "      <td>-0.658039</td>\n",
       "      <td>-0.332705</td>\n",
       "      <td>-0.666656</td>\n",
       "      <td>...</td>\n",
       "      <td>0.134977</td>\n",
       "      <td>-0.124812</td>\n",
       "      <td>0.248576</td>\n",
       "      <td>-0.053476</td>\n",
       "      <td>0.421501</td>\n",
       "      <td>0.137355</td>\n",
       "      <td>0.125961</td>\n",
       "      <td>-0.021922</td>\n",
       "      <td>-0.495519</td>\n",
       "      <td>-0.380735</td>\n",
       "    </tr>\n",
       "  </tbody>\n",
       "</table>\n",
       "<p>39 rows × 62 columns</p>\n",
       "</div>"
      ],
      "text/plain": [
       "    Feature_1  Feature_2  Feature_3  Feature_4  Feature_5  Feature_6  \\\n",
       "0    0.351261   1.207240   0.135958   0.242688  -0.858897  -0.771404   \n",
       "1    0.146021  -0.283866  -0.042948   0.011500  -0.152761  -0.771404   \n",
       "2    0.058929  -0.377195   0.237230   0.161437   0.396371  -0.771404   \n",
       "3   -0.289902  -0.199625   0.171004   0.824269   0.139059  -0.771404   \n",
       "4   -0.082412  -0.762542   0.162819  -0.089574   0.170969  -0.771404   \n",
       "5   -0.205522   0.101658   0.111767   0.963316  -0.858897  -0.771404   \n",
       "6   -1.104780  -1.080054   0.050579   1.935771   0.000795  -0.771404   \n",
       "7   -0.665158  -1.080054  -0.712797   1.414738   1.112980   1.622937   \n",
       "8    0.127655   0.123118  -1.410327   0.715074   0.711279  -0.106227   \n",
       "9   -0.258909  -0.392256  -1.149244   1.202427   4.218474   0.000426   \n",
       "10   0.104137  -0.684454   1.792119  -1.966506  -0.858897  -0.771404   \n",
       "11  -0.400903  -1.080054   1.123184  -0.271998   0.237638   1.378397   \n",
       "12  -0.120946   0.312523   0.614849   0.216817  -0.366885   0.804837   \n",
       "13   0.161810   0.852911   0.507185   0.239616  -0.715629  -0.283408   \n",
       "14   0.588070  -0.424601   0.421203   0.087249  -0.858897  -0.771404   \n",
       "15   0.827992  -0.292618   1.037425  -0.920358  -0.696742  -0.337212   \n",
       "16   1.113478  -0.057606  -1.410327   0.209343  -0.858897  -0.771404   \n",
       "17  -0.827025  -0.701170  -0.800591  -0.537006  -0.691990   0.224626   \n",
       "18   4.014335  -0.062828  -1.410327  -1.966506  -0.858897  -0.771404   \n",
       "19  -0.173808   0.846039  -0.375442   0.590123   0.290587   1.363053   \n",
       "20   1.197566   5.022227   0.422390  -1.338175  -0.858897  -0.771404   \n",
       "21  -0.305945  -0.272107  -0.300188  -0.339939   0.136729  -0.707035   \n",
       "22  -0.454191  -0.718157  -0.469991   0.295801   0.932625  -0.469941   \n",
       "23   0.992344  -0.832315  -1.410327  -0.940307  -0.858897  -0.771404   \n",
       "24  -1.129622  -1.080054  -0.205437   0.829857   0.240822  -0.155447   \n",
       "25  -0.203227   0.193908  -0.791048  -0.388367   0.176877   1.104696   \n",
       "26   2.237034  -0.708376  -1.410327  -1.966506  -0.327546   0.387437   \n",
       "27  -1.007208  -1.080054   3.856135  -0.497566  -0.858897  -0.771404   \n",
       "28   0.494729  -0.763386  -0.012644  -0.332827   0.842625  -0.771404   \n",
       "29  -0.040835   0.466180  -0.422604   0.579185   0.852820   1.875455   \n",
       "30  -0.295314  -0.155731  -0.005607   0.952561   0.307858   0.717987   \n",
       "31  -0.440247  -1.080054   1.411740  -1.966506   0.939251  -0.771404   \n",
       "32   0.831330  -0.577209   0.012566  -0.188937  -0.858897  -0.771404   \n",
       "33  -0.993215  -0.059482   0.024563   1.088267   0.215094   0.172546   \n",
       "34   0.313917  -0.006729  -1.156102   0.437788  -0.419445   0.654680   \n",
       "35  -0.227773   0.764730  -0.182522   1.148682   0.132651  -0.115538   \n",
       "36   0.640189  -0.494492   0.996366  -0.853460  -0.767856  -0.552924   \n",
       "37   0.044551  -0.170102  -0.880302   0.313512   0.631979  -0.665013   \n",
       "38   0.156648  -0.607750   1.239448  -1.352526  -0.858897  -0.771404   \n",
       "\n",
       "    Feature_7  Feature_8  Feature_9  Feature_10  ...  Feature_53  Feature_54  \\\n",
       "0   -0.455132  -0.658039  -0.332705   -0.719155  ...    0.472852    0.729806   \n",
       "1   -0.455132   0.606812  -0.216846   -0.701868  ...    0.157500    0.017003   \n",
       "2   -0.455132   1.882025  -0.160566   -0.052238  ...    0.416841   -0.885216   \n",
       "3   -0.455132   0.216440   0.264733   -0.713953  ...   -0.326205    0.802435   \n",
       "4   -0.455132   1.844063  -0.205472   -0.130795  ...   -0.168188    0.767954   \n",
       "5   -0.455132  -0.658039  -0.332705    1.829064  ...   -0.167028    0.196127   \n",
       "6   -0.455132   0.935567  -0.178769    3.184605  ...   -1.130226   -1.071201   \n",
       "7   -0.455132   1.104621   0.316113   -0.220445  ...   -0.665368   -0.833679   \n",
       "8   -0.455132  -0.658039   0.850842   -0.713283  ...    0.024056    0.763092   \n",
       "9   -0.455132   1.480735   5.274918   -0.394942  ...   -0.360877    0.743720   \n",
       "10  -0.455132  -0.658039  -0.332705   -0.343575  ...    0.302822   -0.317586   \n",
       "11  -0.455132   1.483555  -0.185945    0.406912  ...   -0.229631   -3.762444   \n",
       "12   0.562224  -0.658039  -0.332705    0.007823  ...   -0.197463    0.181355   \n",
       "13   0.717636  -0.658039  -0.332705   -0.604077  ...    0.164497    0.295619   \n",
       "14  -0.455132  -0.658039  -0.332705   -0.467018  ...    0.637696    0.082625   \n",
       "15  -0.455132  -0.658039  -0.332705   -0.669538  ...    0.751056    0.640170   \n",
       "16  -0.455132  -0.658039  -0.332705   -0.696648  ...    1.079803    0.392961   \n",
       "17   0.664966  -0.658039  -0.332705   -0.164997  ...   -0.935454    0.216553   \n",
       "18  -0.455132  -0.658039  -0.332705   -0.617131  ...    4.154327    3.794384   \n",
       "19   0.670277   1.137625  -0.307508    1.960132  ...   -0.218133   -0.685736   \n",
       "20  -0.455132  -0.658039  -0.332705   -0.241655  ...    1.278500    0.949009   \n",
       "21  -0.455132   0.400531  -0.215521   -0.585524  ...   -0.376809    0.130633   \n",
       "22  -0.455132   0.873038   0.071604   -0.723087  ...   -0.481233   -0.002837   \n",
       "23  -0.455132  -0.658039  -0.332705   -0.707268  ...    0.963037    0.753592   \n",
       "24  -0.455132   0.771213   0.373130    0.983568  ...   -1.209336   -0.059243   \n",
       "25   1.283961   0.568846  -0.332705    0.890859  ...   -0.260137   -0.638465   \n",
       "26  -0.455132  -0.658039  -0.332705    0.560385  ...    2.573580    3.794384   \n",
       "27  -0.455132  -0.658039  -0.332705   -0.572743  ...   -1.088867    0.576916   \n",
       "28  -0.455132   0.961714   0.114692    0.176273  ...    0.534970   -0.505396   \n",
       "29   4.635861  -0.502492  -0.332705    1.467426  ...   -0.125969    0.289077   \n",
       "30   0.029727   1.040223   0.193244    0.318065  ...   -0.367526   -0.277665   \n",
       "31  -0.455132   0.959541  -0.332705   -0.686768  ...   -0.484028   -0.964624   \n",
       "32  -0.455132  -0.658039  -0.332705   -0.668871  ...    0.784336   -0.039790   \n",
       "33  -0.455132  -0.658039  -0.119839    0.885894  ...   -1.048998   -1.059571   \n",
       "34   0.569601  -0.658039  -0.332705   -0.349383  ...    0.260087   -0.115227   \n",
       "35  -0.455132   1.974030  -0.121364    4.344590  ...   -0.266981   -0.335142   \n",
       "36  -0.455132  -0.658039  -0.332705   -0.613697  ...    0.582112   -0.222653   \n",
       "37  -0.455132  -0.658039   0.228270   -0.752794  ...    0.023959   -0.646241   \n",
       "38  -0.455132  -0.658039  -0.332705   -0.666656  ...    0.134977   -0.124812   \n",
       "\n",
       "    Feature_55  Feature_56  Feature_57  Feature_58  Feature_59  Feature_60  \\\n",
       "0     0.131270   -0.203246    0.553749   -0.144889    0.368862    0.191717   \n",
       "1     0.162032    0.716117    0.124697    0.690110    0.068692   -0.205254   \n",
       "2     0.472506   -0.690605    0.457575   -1.329023    0.395496    0.048722   \n",
       "3    -0.466333   -0.160117   -0.241765   -0.326395   -0.294211   -0.619656   \n",
       "4    -0.209740    0.634837   -0.148502   -0.230727   -0.080675   -0.651531   \n",
       "5    -0.253508   -0.631293    0.067811   -0.900679   -0.128111   -0.229020   \n",
       "6    -1.067378   -1.093605   -1.162526   -1.277752   -1.019317    0.040327   \n",
       "7    -0.585484   -0.249701   -0.699567   -1.033302   -0.594150    0.564346   \n",
       "8    -0.026359    1.511007   -0.297880    0.795236    0.041212   -3.811996   \n",
       "9    -0.407714    0.575987   -0.413671    0.497023   -0.304464   -0.256905   \n",
       "10    0.229691   -0.607658    0.476556   -0.531591    0.165278    0.383755   \n",
       "11    0.031501   -1.279493    0.214274   -4.635589   -0.140977    0.798902   \n",
       "12   -0.157709    1.377278   -0.504910   -0.173826   -0.124900   -0.494591   \n",
       "13    0.097973    0.454674    0.258530    0.579255    0.095540    0.169805   \n",
       "14    0.614818    1.196206    0.270931    0.546806    0.486675   -0.812135   \n",
       "15    0.731622    0.636448    0.692237    1.303733    0.646629    0.292799   \n",
       "16    1.105412   -0.384457    1.178262    1.323836    0.958167    0.750047   \n",
       "17   -0.908927   -0.856228   -0.687612   -0.329791   -0.824506    0.690238   \n",
       "18    2.163689   -0.186829    1.810625    2.823218    3.701289    0.112223   \n",
       "19   -0.027062    1.565534   -0.610757    0.050627   -0.195375   -1.281017   \n",
       "20    1.106778   -0.702196    1.275160   -0.277854    1.198295    0.399416   \n",
       "21   -0.371502    0.755817   -0.546374    0.111978   -0.342872    0.324040   \n",
       "22   -0.568576   -0.256868   -0.506644   -0.570220   -0.474956    0.023243   \n",
       "23    0.810796    0.420045    0.959251    0.015438    0.888759   -0.003473   \n",
       "24   -1.203289   -0.801141   -1.273081   -0.117881   -1.109833    0.756805   \n",
       "25   -0.078488    0.790904   -0.411100    0.558457   -0.254049   -0.189270   \n",
       "26    2.457473   -1.042247    4.194172    1.696504    2.329031    1.205714   \n",
       "27   -1.110529   -0.244914   -1.116926   -0.159182   -0.986660    0.508750   \n",
       "28    0.702654    0.103762    0.571114   -0.187184    0.480805    0.165601   \n",
       "29   -0.092680    0.450583    0.021483    0.345785   -0.075170    0.142887   \n",
       "30   -0.273338    0.351054   -0.401167    0.082663   -0.328488   -0.369155   \n",
       "31   -0.297482   -1.371699    0.274940   -0.117178   -0.495526    1.011796   \n",
       "32    0.850129    0.026556    0.938131    0.661229    0.694228    0.759017   \n",
       "33   -0.949108   -0.340178   -1.079897   -1.190649   -0.918440    0.484690   \n",
       "34    0.438758    1.840373   -0.213639    0.522363    0.253393   -1.036863   \n",
       "35   -0.176240   -0.721368    0.066533   -0.597743   -0.196180    0.883920   \n",
       "36    0.724164    2.264436    0.034861    0.551932    0.525875   -0.472512   \n",
       "37    0.313002    0.867922   -0.061788    0.093640    0.022678   -0.244971   \n",
       "38    0.248576   -0.053476    0.421501    0.137355    0.125961   -0.021922   \n",
       "\n",
       "    Feature_61  Feature_62  \n",
       "0    -1.307456   -0.522045  \n",
       "1    -0.615322    0.354240  \n",
       "2    -0.158371   -0.069426  \n",
       "3    -0.336467    0.962747  \n",
       "4     0.343263    0.485903  \n",
       "5    -0.712052   -3.279501  \n",
       "6     2.174720   -0.669766  \n",
       "7     2.174720   -0.128129  \n",
       "8    -2.223358   -0.561733  \n",
       "9     0.174035    0.154651  \n",
       "10   -0.321231   -0.478158  \n",
       "11    2.174720   -0.740758  \n",
       "12   -0.961074   -0.772806  \n",
       "13   -0.498064    0.053886  \n",
       "14    0.019689    0.176365  \n",
       "15   -0.039289    0.793967  \n",
       "16   -0.224955   -0.196325  \n",
       "17    0.428695    0.555347  \n",
       "18   -1.185423   -0.531790  \n",
       "19    0.232125   -0.094891  \n",
       "20    0.189569    0.329799  \n",
       "21    0.579705    0.983025  \n",
       "22   -1.109750    0.112792  \n",
       "23    0.058376    0.244257  \n",
       "24    2.174720   -0.736874  \n",
       "25    0.175152    0.395273  \n",
       "26    0.119253   -0.038870  \n",
       "27    2.174720   -3.279501  \n",
       "28   -0.406580    0.109722  \n",
       "29   -1.359122   -3.279501  \n",
       "30   -1.378187   -0.140376  \n",
       "31    2.174720   -1.691171  \n",
       "32   -0.688250    0.153548  \n",
       "33   -0.044999    0.858709  \n",
       "34   -1.192632   -0.094340  \n",
       "35   -0.683336   -0.659686  \n",
       "36   -0.842224    0.166432  \n",
       "37    0.749009    0.625644  \n",
       "38   -0.495519   -0.380735  \n",
       "\n",
       "[39 rows x 62 columns]"
      ]
     },
     "execution_count": 31,
     "metadata": {},
     "output_type": "execute_result"
    }
   ],
   "source": [
    "X_tests[2]"
   ]
  },
  {
   "cell_type": "markdown",
   "metadata": {},
   "source": [
    "## Data Preprocessing & Feature Engineering"
   ]
  },
  {
   "cell_type": "code",
   "execution_count": 32,
   "metadata": {},
   "outputs": [],
   "source": [
    "from sklearn.feature_selection import RFECV\n",
    "from sklearn.ensemble import RandomForestClassifier\n",
    "from sklearn.model_selection import StratifiedKFold"
   ]
  },
  {
   "cell_type": "code",
   "execution_count": 33,
   "metadata": {},
   "outputs": [],
   "source": [
    "# # 檢查 X_train_encoded 和 y_train 的樣本數是否一致\n",
    "# if X_train_encoded.shape[0] == y_train.shape[0]:\n",
    "#     print(\"X_train_encoded 和 y_train 的樣本數匹配。\")\n",
    "# else:\n",
    "#     print(f\"樣本數不匹配！X_train_encoded 有 {X_train_encoded.shape[0]} 個樣本，\"\n",
    "#           f\"y_train 有 {y_train.shape[0]} 個樣本。\")"
   ]
  },
  {
   "cell_type": "code",
   "execution_count": 34,
   "metadata": {},
   "outputs": [
    {
     "name": "stdout",
     "output_type": "stream",
     "text": [
      "Selected features: Index(['Feature_1'], dtype='object')\n",
      "Selected features: Index(['Feature_2', 'Feature_4', 'Feature_5', 'Feature_7'], dtype='object')\n",
      "Selected features: Index(['Feature_2', 'Feature_4', 'Feature_43', 'Feature_60', 'Feature_61'], dtype='object')\n",
      "Selected features: Index(['Feature_1', 'Feature_2', 'Feature_4', 'Feature_5'], dtype='object')\n",
      "Selected features: Index(['Feature_1', 'Feature_2', 'Feature_3', 'Feature_4', 'Feature_5',\n",
      "       'Feature_6', 'Feature_7', 'Feature_8', 'Feature_9', 'Feature_10',\n",
      "       'Feature_11', 'Feature_12', 'Feature_13', 'Feature_14', 'Feature_15',\n",
      "       'Feature_16', 'Feature_17', 'Feature_18', 'Feature_19', 'Feature_20',\n",
      "       'Feature_21_0', 'Feature_21_1', 'Feature_22_0', 'Feature_22_1',\n",
      "       'Feature_23_0', 'Feature_23_1', 'Feature_24_1', 'Feature_25_0',\n",
      "       'Feature_25_1', 'Feature_26_0', 'Feature_26_1', 'Feature_27_0',\n",
      "       'Feature_27_1', 'Feature_28_0', 'Feature_28_1', 'Feature_28_2',\n",
      "       'Feature_28_3', 'Feature_29_0', 'Feature_29_1', 'Feature_30_0',\n",
      "       'Feature_31_0', 'Feature_31_1', 'Feature_32_0', 'Feature_32_1',\n",
      "       'Feature_33_0', 'Feature_33_1', 'Feature_33_2', 'Feature_33_3',\n",
      "       'Feature_33_4', 'Feature_34_0', 'Feature_34_1', 'Feature_34_2',\n",
      "       'Feature_34_3', 'Feature_34_4', 'Feature_35_0', 'Feature_35_1',\n",
      "       'Feature_36_0', 'Feature_36_1', 'Feature_37_0', 'Feature_37_1',\n",
      "       'Feature_38_0', 'Feature_38_1', 'Feature_39_0', 'Feature_39_1',\n",
      "       'Feature_40_0', 'Feature_40_1', 'Feature_42_0', 'Feature_42_1',\n",
      "       'Feature_44_0', 'Feature_44_1', 'Feature_45_0', 'Feature_45_1',\n",
      "       'Feature_46_0', 'Feature_46_1', 'Feature_47_0', 'Feature_47_1',\n",
      "       'Feature_48_0', 'Feature_48_1', 'Feature_49_0', 'Feature_49_1',\n",
      "       'Feature_50_0', 'Feature_50_1', 'Feature_51_0', 'Feature_51_1',\n",
      "       'Feature_52_0', 'Feature_53_0', 'Feature_53_1', 'Feature_53_2',\n",
      "       'Feature_54_0', 'Feature_54_1', 'Feature_54_2', 'Feature_54_3'],\n",
      "      dtype='object')\n",
      "Selected features: Index(['Feature_55_0', 'Feature_55_1', 'Feature_56_1', 'Feature_57_0'], dtype='object')\n",
      "Selected features: Index(['Feature_1', 'Feature_2', 'Feature_3', 'Feature_4', 'Feature_5',\n",
      "       'Feature_7_0', 'Feature_8_0', 'Feature_9_1', 'Feature_11_0',\n",
      "       'Feature_11_1'],\n",
      "      dtype='object')\n",
      "Selected features: Index(['Feature_8', 'Feature_19', 'Feature_20', 'Feature_21'], dtype='object')\n",
      "Selected features: Index(['Feature_1', 'Feature_2', 'Feature_3', 'Feature_4', 'Feature_5',\n",
      "       'Feature_6', 'Feature_7', 'Feature_8', 'Feature_9', 'Feature_10',\n",
      "       'Feature_11', 'Feature_12', 'Feature_13', 'Feature_14_0',\n",
      "       'Feature_14_1', 'Feature_14_2', 'Feature_14_3', 'Feature_14_4',\n",
      "       'Feature_15_1', 'Feature_15_3', 'Feature_15_4', 'Feature_15_5',\n",
      "       'Feature_15_6', 'Feature_15_8', 'Feature_16_1', 'Feature_17_0',\n",
      "       'Feature_17_1', 'Feature_18_0', 'Feature_18_1', 'Feature_19_0',\n",
      "       'Feature_19_1', 'Feature_19_2', 'Feature_19_3', 'Feature_19_4',\n",
      "       'Feature_20_0', 'Feature_20_1', 'Feature_20_2', 'Feature_22_2',\n",
      "       'Feature_22_3', 'Feature_23_0', 'Feature_23_1', 'Feature_23_2',\n",
      "       'Feature_24_1', 'Feature_24_2', 'Feature_24_3', 'Feature_24_4'],\n",
      "      dtype='object')\n",
      "Selected features: Index(['Feature_1', 'Feature_2', 'Feature_4', 'Feature_5', 'Feature_6',\n",
      "       'Feature_7_2', 'Feature_8_5', 'Feature_9_5', 'Feature_9_6',\n",
      "       'Feature_10_0', 'Feature_10_1', 'Feature_11_1', 'Feature_12_0',\n",
      "       'Feature_12_1', 'Feature_13_2', 'Feature_13_5', 'Feature_14_3',\n",
      "       'Feature_14_5'],\n",
      "      dtype='object')\n",
      "Selected features: Index(['Feature_1', 'Feature_2', 'Feature_3', 'Feature_4', 'Feature_5',\n",
      "       'Feature_6', 'Feature_7', 'Feature_8', 'Feature_11', 'Feature_14',\n",
      "       'Feature_21', 'Feature_22', 'Feature_23', 'Feature_24', 'Feature_25',\n",
      "       'Feature_26', 'Feature_27', 'Feature_28', 'Feature_29', 'Feature_30'],\n",
      "      dtype='object')\n",
      "Selected features: Index(['Feature_8', 'Feature_19', 'Feature_20', 'Feature_21'], dtype='object')\n",
      "Selected features: Index(['Feature_1', 'Feature_2', 'Feature_3', 'Feature_4', 'Feature_5',\n",
      "       'Feature_6', 'Feature_7_0', 'Feature_7_1', 'Feature_8_0', 'Feature_8_1',\n",
      "       'Feature_10_1', 'Feature_11_0', 'Feature_11_1', 'Feature_12_0',\n",
      "       'Feature_13_0', 'Feature_13_1'],\n",
      "      dtype='object')\n",
      "Selected features: Index(['Feature_1', 'Feature_2', 'Feature_3', 'Feature_4', 'Feature_5',\n",
      "       'Feature_6', 'Feature_7', 'Feature_9', 'Feature_10', 'Feature_12'],\n",
      "      dtype='object')\n",
      "Selected features: Index(['Feature_1', 'Feature_2', 'Feature_3', 'Feature_4', 'Feature_5',\n",
      "       'Feature_6', 'Feature_7', 'Feature_9'],\n",
      "      dtype='object')\n",
      "Selected features: Index(['Feature_1', 'Feature_2', 'Feature_3', 'Feature_4', 'Feature_5',\n",
      "       'Feature_6', 'Feature_12_0', 'Feature_12_1', 'Feature_13_0',\n",
      "       'Feature_13_1'],\n",
      "      dtype='object')\n",
      "Selected features: Index(['Feature_1', 'Feature_2', 'Feature_3', 'Feature_4', 'Feature_5',\n",
      "       'Feature_6_0', 'Feature_6_1', 'Feature_6_2', 'Feature_7_0',\n",
      "       'Feature_7_1', 'Feature_8_0', 'Feature_8_1', 'Feature_8_2',\n",
      "       'Feature_8_3', 'Feature_8_4', 'Feature_10_0', 'Feature_10_1',\n",
      "       'Feature_11_0', 'Feature_11_1'],\n",
      "      dtype='object')\n",
      "Selected features: Index(['Feature_6'], dtype='object')\n",
      "Selected features: Index(['Feature_6', 'Feature_9'], dtype='object')\n",
      "Selected features: Index(['Feature_1', 'Feature_2', 'Feature_3', 'Feature_4', 'Feature_5_0',\n",
      "       'Feature_5_1', 'Feature_5_2', 'Feature_6_0'],\n",
      "      dtype='object')\n",
      "Selected features: Index(['Feature_1', 'Feature_2', 'Feature_3', 'Feature_4', 'Feature_5',\n",
      "       'Feature_6', 'Feature_7', 'Feature_8'],\n",
      "      dtype='object')\n",
      "Selected features: Index(['Feature_1', 'Feature_2', 'Feature_3', 'Feature_4', 'Feature_5',\n",
      "       'Feature_6', 'Feature_7', 'Feature_8', 'Feature_9', 'Feature_10',\n",
      "       'Feature_11', 'Feature_12_1'],\n",
      "      dtype='object')\n",
      "Selected features: Index(['Feature_1', 'Feature_2', 'Feature_3', 'Feature_4', 'Feature_5',\n",
      "       'Feature_7', 'Feature_8'],\n",
      "      dtype='object')\n",
      "Selected features: Index(['Feature_1', 'Feature_2', 'Feature_3', 'Feature_4', 'Feature_5',\n",
      "       'Feature_6', 'Feature_7', 'Feature_8', 'Feature_9', 'Feature_11_0',\n",
      "       'Feature_33_0', 'Feature_33_1'],\n",
      "      dtype='object')\n",
      "Selected features: Index(['Feature_1', 'Feature_2', 'Feature_3', 'Feature_4', 'Feature_5',\n",
      "       'Feature_6', 'Feature_7', 'Feature_8_0', 'Feature_8_1', 'Feature_8_2',\n",
      "       'Feature_8_3', 'Feature_8_4', 'Feature_9_0', 'Feature_9_1',\n",
      "       'Feature_9_2', 'Feature_9_4', 'Feature_9_6', 'Feature_9_7',\n",
      "       'Feature_9_8', 'Feature_9_9', 'Feature_10_0', 'Feature_10_1',\n",
      "       'Feature_10_2', 'Feature_10_5', 'Feature_10_6', 'Feature_10_8',\n",
      "       'Feature_10_9', 'Feature_11_0', 'Feature_11_1', 'Feature_11_2',\n",
      "       'Feature_11_3', 'Feature_11_4', 'Feature_11_5', 'Feature_11_7',\n",
      "       'Feature_11_9', 'Feature_13_0', 'Feature_13_2', 'Feature_13_3',\n",
      "       'Feature_14_0', 'Feature_14_1', 'Feature_14_2', 'Feature_14_4',\n",
      "       'Feature_14_6', 'Feature_14_7', 'Feature_14_9', 'Feature_15_0',\n",
      "       'Feature_15_1', 'Feature_15_2'],\n",
      "      dtype='object')\n",
      "Selected features: Index(['Feature_1', 'Feature_2_0', 'Feature_2_1', 'Feature_2_2', 'Feature_3_0',\n",
      "       'Feature_3_1', 'Feature_4_0', 'Feature_4_1'],\n",
      "      dtype='object')\n",
      "Selected features: Index(['Feature_1', 'Feature_2', 'Feature_3', 'Feature_4', 'Feature_5',\n",
      "       'Feature_6', 'Feature_7', 'Feature_8', 'Feature_9', 'Feature_10_1',\n",
      "       'Feature_10_3', 'Feature_10_4', 'Feature_10_5', 'Feature_11_0',\n",
      "       'Feature_11_1', 'Feature_11_2', 'Feature_12_0', 'Feature_12_1',\n",
      "       'Feature_13_0', 'Feature_13_1'],\n",
      "      dtype='object')\n",
      "Selected features: Index(['Feature_1', 'Feature_2', 'Feature_3', 'Feature_5', 'Feature_6',\n",
      "       'Feature_7', 'Feature_8', 'Feature_9', 'Feature_10', 'Feature_11',\n",
      "       'Feature_12', 'Feature_13_1', 'Feature_13_3', 'Feature_13_7',\n",
      "       'Feature_13_8', 'Feature_13_10', 'Feature_13_11', 'Feature_13_12'],\n",
      "      dtype='object')\n",
      "Selected features: Index(['Feature_1', 'Feature_2', 'Feature_3', 'Feature_4', 'Feature_5',\n",
      "       'Feature_6', 'Feature_7', 'Feature_8'],\n",
      "      dtype='object')\n",
      "Selected features: Index(['Feature_1', 'Feature_2', 'Feature_3', 'Feature_4', 'Feature_5',\n",
      "       'Feature_24_1', 'Feature_61_0', 'Feature_61_1'],\n",
      "      dtype='object')\n",
      "Selected features: Index(['Feature_1', 'Feature_2', 'Feature_3', 'Feature_4', 'Feature_5',\n",
      "       'Feature_6', 'Feature_7', 'Feature_8_1', 'Feature_9_2', 'Feature_9_3',\n",
      "       'Feature_12_0', 'Feature_12_1', 'Feature_13_0', 'Feature_13_1'],\n",
      "      dtype='object')\n",
      "Selected features: Index(['Feature_1', 'Feature_2', 'Feature_4', 'Feature_5', 'Feature_6',\n",
      "       'Feature_8'],\n",
      "      dtype='object')\n",
      "Selected features: Index(['Feature_1', 'Feature_2', 'Feature_3', 'Feature_4', 'Feature_5',\n",
      "       'Feature_6', 'Feature_7', 'Feature_8', 'Feature_9', 'Feature_10',\n",
      "       'Feature_11', 'Feature_12', 'Feature_13', 'Feature_14', 'Feature_15_0',\n",
      "       'Feature_15_1', 'Feature_16_0', 'Feature_16_1', 'Feature_16_2',\n",
      "       'Feature_16_3', 'Feature_17_0', 'Feature_17_1', 'Feature_18_0',\n",
      "       'Feature_18_1'],\n",
      "      dtype='object')\n",
      "Selected features: Index(['Feature_1', 'Feature_2', 'Feature_3', 'Feature_4', 'Feature_5',\n",
      "       'Feature_6', 'Feature_7', 'Feature_8', 'Feature_9', 'Feature_10',\n",
      "       'Feature_11', 'Feature_13', 'Feature_14', 'Feature_16', 'Feature_17',\n",
      "       'Feature_19', 'Feature_21', 'Feature_24', 'Feature_25', 'Feature_26_0',\n",
      "       'Feature_26_1', 'Feature_27_0', 'Feature_27_1', 'Feature_28_0',\n",
      "       'Feature_28_1', 'Feature_29_0', 'Feature_30_0', 'Feature_30_1'],\n",
      "      dtype='object')\n",
      "Selected features: Index(['Feature_1', 'Feature_2', 'Feature_3', 'Feature_4', 'Feature_5',\n",
      "       'Feature_6', 'Feature_7', 'Feature_8'],\n",
      "      dtype='object')\n",
      "Selected features: Index(['Feature_1', 'Feature_2', 'Feature_3', 'Feature_4', 'Feature_5',\n",
      "       'Feature_6', 'Feature_7', 'Feature_8', 'Feature_9', 'Feature_10_0',\n",
      "       'Feature_10_2', 'Feature_10_3', 'Feature_10_4', 'Feature_10_5',\n",
      "       'Feature_10_6'],\n",
      "      dtype='object')\n",
      "Selected features: Index(['Feature_4', 'Feature_6'], dtype='object')\n",
      "Selected features: Index(['Feature_1', 'Feature_2_0', 'Feature_2_1', 'Feature_2_2', 'Feature_3_0',\n",
      "       'Feature_3_1', 'Feature_4_0', 'Feature_4_1'],\n",
      "      dtype='object')\n",
      "Selected features: Index(['Feature_1', 'Feature_2', 'Feature_3', 'Feature_6_0'], dtype='object')\n",
      "Selected features: Index(['Feature_1', 'Feature_2'], dtype='object')\n",
      "Selected features: Index(['Feature_1', 'Feature_2', 'Feature_3', 'Feature_4', 'Feature_5',\n",
      "       'Feature_6', 'Feature_7', 'Feature_8', 'Feature_9', 'Feature_10',\n",
      "       'Feature_11', 'Feature_12_0', 'Feature_12_1', 'Feature_13_0',\n",
      "       'Feature_13_1', 'Feature_13_2', 'Feature_13_3'],\n",
      "      dtype='object')\n",
      "Selected features: Index(['Feature_1', 'Feature_35', 'Feature_49', 'Feature_52', 'Feature_65',\n",
      "       'Feature_66'],\n",
      "      dtype='object')\n",
      "Selected features: Index(['Feature_4'], dtype='object')\n",
      "Selected features: Index(['Feature_1', 'Feature_2', 'Feature_3', 'Feature_4', 'Feature_5',\n",
      "       'Feature_6', 'Feature_7', 'Feature_8', 'Feature_9', 'Feature_10',\n",
      "       'Feature_11', 'Feature_12', 'Feature_13', 'Feature_14', 'Feature_15',\n",
      "       'Feature_16', 'Feature_17', 'Feature_18', 'Feature_19', 'Feature_20',\n",
      "       'Feature_21', 'Feature_22', 'Feature_23', 'Feature_24', 'Feature_25',\n",
      "       'Feature_26', 'Feature_27', 'Feature_28', 'Feature_29', 'Feature_30',\n",
      "       'Feature_31', 'Feature_32', 'Feature_33', 'Feature_34', 'Feature_35',\n",
      "       'Feature_36', 'Feature_37', 'Feature_38', 'Feature_39', 'Feature_40',\n",
      "       'Feature_41', 'Feature_42', 'Feature_43_0', 'Feature_44_0'],\n",
      "      dtype='object')\n",
      "Selected features: Index(['Feature_2', 'Feature_3'], dtype='object')\n",
      "Selected features: Index(['Feature_1', 'Feature_2_0', 'Feature_2_1', 'Feature_3_0', 'Feature_3_1',\n",
      "       'Feature_4_0', 'Feature_4_1', 'Feature_5_0', 'Feature_5_1',\n",
      "       'Feature_6_0', 'Feature_7_0', 'Feature_7_1', 'Feature_8_0',\n",
      "       'Feature_8_1', 'Feature_9_0', 'Feature_9_1', 'Feature_10_0',\n",
      "       'Feature_10_1', 'Feature_11_0', 'Feature_11_1', 'Feature_12_0',\n",
      "       'Feature_12_1', 'Feature_13_0', 'Feature_13_1', 'Feature_14_0',\n",
      "       'Feature_14_1', 'Feature_15_0', 'Feature_15_1', 'Feature_16_0'],\n",
      "      dtype='object')\n",
      "Selected features: Index(['Feature_1', 'Feature_2', 'Feature_3', 'Feature_4', 'Feature_5',\n",
      "       'Feature_6', 'Feature_7', 'Feature_8', 'Feature_9', 'Feature_10',\n",
      "       'Feature_11', 'Feature_12_0'],\n",
      "      dtype='object')\n",
      "Selected features: Index(['Feature_1', 'Feature_2', 'Feature_3', 'Feature_4', 'Feature_5',\n",
      "       'Feature_6', 'Feature_7', 'Feature_8_0', 'Feature_9_1', 'Feature_10_1',\n",
      "       'Feature_11_0', 'Feature_12_0'],\n",
      "      dtype='object')\n",
      "Selected features: Index(['Feature_1', 'Feature_2', 'Feature_3', 'Feature_4', 'Feature_5',\n",
      "       'Feature_6', 'Feature_7', 'Feature_8', 'Feature_9', 'Feature_10',\n",
      "       'Feature_11', 'Feature_12', 'Feature_13', 'Feature_14', 'Feature_15',\n",
      "       'Feature_16', 'Feature_17', 'Feature_18', 'Feature_19', 'Feature_20',\n",
      "       'Feature_21', 'Feature_22', 'Feature_23', 'Feature_24', 'Feature_25',\n",
      "       'Feature_26', 'Feature_27', 'Feature_28', 'Feature_29', 'Feature_30',\n",
      "       'Feature_31', 'Feature_32', 'Feature_33', 'Feature_34', 'Feature_35',\n",
      "       'Feature_36', 'Feature_37', 'Feature_38', 'Feature_39', 'Feature_40',\n",
      "       'Feature_41', 'Feature_42', 'Feature_43', 'Feature_44', 'Feature_45_0',\n",
      "       'Feature_46_0', 'Feature_46_1'],\n",
      "      dtype='object')\n"
     ]
    }
   ],
   "source": [
    "for i in range(len(dataset_names)):\n",
    "    # Initialize the model\n",
    "    model = RandomForestClassifier(n_estimators=100, random_state=42)\n",
    "\n",
    "    # Initialize RFECV\n",
    "    rfecv = RFECV(estimator=model, step=1, cv=StratifiedKFold(5), scoring='roc_auc')\n",
    "\n",
    "    x_train = X_trains[i]\n",
    "    y_train = y_trains[i]\n",
    "\n",
    "    # Fit RFECV\n",
    "    rfecv.fit(x_train, y_train.values.ravel())\n",
    "\n",
    "    # Get the selected features\n",
    "    selected_features = x_train.columns[rfecv.support_]\n",
    "\n",
    "    print(\"Selected features:\", selected_features)\n",
    "\n",
    "    # Transform the datasets\n",
    "    X_trains[i] = X_trains[i][selected_features]\n",
    "    X_tests[i] = X_tests[i][selected_features]"
   ]
  },
  {
   "cell_type": "markdown",
   "metadata": {},
   "source": [
    "## train test split & build Model\n",
    "You can select an appropriate model and perform corresponding hyperparameter tuning."
   ]
  },
  {
   "cell_type": "code",
   "execution_count": 35,
   "metadata": {},
   "outputs": [],
   "source": [
    "from sklearn.model_selection import train_test_split\n",
    "from sklearn.neighbors import KNeighborsClassifier\n",
    "from sklearn.metrics import accuracy_score, f1_score, precision_score\n",
    "from sklearn.metrics import roc_auc_score\n",
    "from sklearn.ensemble import StackingClassifier\n",
    "from sklearn.ensemble import RandomForestClassifier, GradientBoostingClassifier\n",
    "from sklearn.linear_model import LogisticRegression\n",
    "from sklearn.model_selection import train_test_split\n",
    "from sklearn.metrics import accuracy_score, f1_score, precision_score\n",
    "import xgboost as xgb\n",
    "from sklearn.svm import SVC"
   ]
  },
  {
   "cell_type": "markdown",
   "metadata": {},
   "source": [
    "使用VotingClassifier"
   ]
  },
  {
   "cell_type": "code",
   "execution_count": null,
   "metadata": {},
   "outputs": [
    {
     "name": "stderr",
     "output_type": "stream",
     "text": [
      "c:\\Users\\wu\\AppData\\Local\\Programs\\Python\\Python312\\Lib\\site-packages\\sklearn\\preprocessing\\_label.py:97: DataConversionWarning: A column-vector y was passed when a 1d array was expected. Please change the shape of y to (n_samples, ), for example using ravel().\n",
      "  y = column_or_1d(y, warn=True)\n",
      "c:\\Users\\wu\\AppData\\Local\\Programs\\Python\\Python312\\Lib\\site-packages\\sklearn\\preprocessing\\_label.py:132: DataConversionWarning: A column-vector y was passed when a 1d array was expected. Please change the shape of y to (n_samples, ), for example using ravel().\n",
      "  y = column_or_1d(y, dtype=self.classes_.dtype, warn=True)\n"
     ]
    },
    {
     "name": "stdout",
     "output_type": "stream",
     "text": [
      "0 times finish\n",
      "AUC: 0.85\n"
     ]
    },
    {
     "name": "stderr",
     "output_type": "stream",
     "text": [
      "c:\\Users\\wu\\AppData\\Local\\Programs\\Python\\Python312\\Lib\\site-packages\\sklearn\\preprocessing\\_label.py:97: DataConversionWarning: A column-vector y was passed when a 1d array was expected. Please change the shape of y to (n_samples, ), for example using ravel().\n",
      "  y = column_or_1d(y, warn=True)\n",
      "c:\\Users\\wu\\AppData\\Local\\Programs\\Python\\Python312\\Lib\\site-packages\\sklearn\\preprocessing\\_label.py:132: DataConversionWarning: A column-vector y was passed when a 1d array was expected. Please change the shape of y to (n_samples, ), for example using ravel().\n",
      "  y = column_or_1d(y, dtype=self.classes_.dtype, warn=True)\n"
     ]
    },
    {
     "name": "stdout",
     "output_type": "stream",
     "text": [
      "1 times finish\n",
      "AUC: 0.82\n"
     ]
    },
    {
     "name": "stderr",
     "output_type": "stream",
     "text": [
      "c:\\Users\\wu\\AppData\\Local\\Programs\\Python\\Python312\\Lib\\site-packages\\sklearn\\preprocessing\\_label.py:97: DataConversionWarning: A column-vector y was passed when a 1d array was expected. Please change the shape of y to (n_samples, ), for example using ravel().\n",
      "  y = column_or_1d(y, warn=True)\n",
      "c:\\Users\\wu\\AppData\\Local\\Programs\\Python\\Python312\\Lib\\site-packages\\sklearn\\preprocessing\\_label.py:132: DataConversionWarning: A column-vector y was passed when a 1d array was expected. Please change the shape of y to (n_samples, ), for example using ravel().\n",
      "  y = column_or_1d(y, dtype=self.classes_.dtype, warn=True)\n"
     ]
    },
    {
     "name": "stdout",
     "output_type": "stream",
     "text": [
      "2 times finish\n",
      "AUC: 0.89\n"
     ]
    },
    {
     "name": "stderr",
     "output_type": "stream",
     "text": [
      "c:\\Users\\wu\\AppData\\Local\\Programs\\Python\\Python312\\Lib\\site-packages\\sklearn\\preprocessing\\_label.py:97: DataConversionWarning: A column-vector y was passed when a 1d array was expected. Please change the shape of y to (n_samples, ), for example using ravel().\n",
      "  y = column_or_1d(y, warn=True)\n",
      "c:\\Users\\wu\\AppData\\Local\\Programs\\Python\\Python312\\Lib\\site-packages\\sklearn\\preprocessing\\_label.py:132: DataConversionWarning: A column-vector y was passed when a 1d array was expected. Please change the shape of y to (n_samples, ), for example using ravel().\n",
      "  y = column_or_1d(y, dtype=self.classes_.dtype, warn=True)\n"
     ]
    },
    {
     "name": "stdout",
     "output_type": "stream",
     "text": [
      "3 times finish\n",
      "AUC: 0.98\n"
     ]
    },
    {
     "name": "stderr",
     "output_type": "stream",
     "text": [
      "c:\\Users\\wu\\AppData\\Local\\Programs\\Python\\Python312\\Lib\\site-packages\\sklearn\\preprocessing\\_label.py:97: DataConversionWarning: A column-vector y was passed when a 1d array was expected. Please change the shape of y to (n_samples, ), for example using ravel().\n",
      "  y = column_or_1d(y, warn=True)\n",
      "c:\\Users\\wu\\AppData\\Local\\Programs\\Python\\Python312\\Lib\\site-packages\\sklearn\\preprocessing\\_label.py:132: DataConversionWarning: A column-vector y was passed when a 1d array was expected. Please change the shape of y to (n_samples, ), for example using ravel().\n",
      "  y = column_or_1d(y, dtype=self.classes_.dtype, warn=True)\n"
     ]
    },
    {
     "name": "stdout",
     "output_type": "stream",
     "text": [
      "4 times finish\n",
      "AUC: 0.92\n"
     ]
    },
    {
     "name": "stderr",
     "output_type": "stream",
     "text": [
      "c:\\Users\\wu\\AppData\\Local\\Programs\\Python\\Python312\\Lib\\site-packages\\sklearn\\preprocessing\\_label.py:97: DataConversionWarning: A column-vector y was passed when a 1d array was expected. Please change the shape of y to (n_samples, ), for example using ravel().\n",
      "  y = column_or_1d(y, warn=True)\n",
      "c:\\Users\\wu\\AppData\\Local\\Programs\\Python\\Python312\\Lib\\site-packages\\sklearn\\preprocessing\\_label.py:132: DataConversionWarning: A column-vector y was passed when a 1d array was expected. Please change the shape of y to (n_samples, ), for example using ravel().\n",
      "  y = column_or_1d(y, dtype=self.classes_.dtype, warn=True)\n"
     ]
    },
    {
     "name": "stdout",
     "output_type": "stream",
     "text": [
      "5 times finish\n",
      "AUC: 1.00\n"
     ]
    },
    {
     "name": "stderr",
     "output_type": "stream",
     "text": [
      "c:\\Users\\wu\\AppData\\Local\\Programs\\Python\\Python312\\Lib\\site-packages\\sklearn\\preprocessing\\_label.py:97: DataConversionWarning: A column-vector y was passed when a 1d array was expected. Please change the shape of y to (n_samples, ), for example using ravel().\n",
      "  y = column_or_1d(y, warn=True)\n",
      "c:\\Users\\wu\\AppData\\Local\\Programs\\Python\\Python312\\Lib\\site-packages\\sklearn\\preprocessing\\_label.py:132: DataConversionWarning: A column-vector y was passed when a 1d array was expected. Please change the shape of y to (n_samples, ), for example using ravel().\n",
      "  y = column_or_1d(y, dtype=self.classes_.dtype, warn=True)\n"
     ]
    },
    {
     "name": "stdout",
     "output_type": "stream",
     "text": [
      "6 times finish\n",
      "AUC: 0.79\n"
     ]
    },
    {
     "name": "stderr",
     "output_type": "stream",
     "text": [
      "c:\\Users\\wu\\AppData\\Local\\Programs\\Python\\Python312\\Lib\\site-packages\\sklearn\\preprocessing\\_label.py:97: DataConversionWarning: A column-vector y was passed when a 1d array was expected. Please change the shape of y to (n_samples, ), for example using ravel().\n",
      "  y = column_or_1d(y, warn=True)\n",
      "c:\\Users\\wu\\AppData\\Local\\Programs\\Python\\Python312\\Lib\\site-packages\\sklearn\\preprocessing\\_label.py:132: DataConversionWarning: A column-vector y was passed when a 1d array was expected. Please change the shape of y to (n_samples, ), for example using ravel().\n",
      "  y = column_or_1d(y, dtype=self.classes_.dtype, warn=True)\n"
     ]
    },
    {
     "name": "stdout",
     "output_type": "stream",
     "text": [
      "7 times finish\n",
      "AUC: 1.00\n"
     ]
    },
    {
     "name": "stderr",
     "output_type": "stream",
     "text": [
      "c:\\Users\\wu\\AppData\\Local\\Programs\\Python\\Python312\\Lib\\site-packages\\sklearn\\preprocessing\\_label.py:97: DataConversionWarning: A column-vector y was passed when a 1d array was expected. Please change the shape of y to (n_samples, ), for example using ravel().\n",
      "  y = column_or_1d(y, warn=True)\n",
      "c:\\Users\\wu\\AppData\\Local\\Programs\\Python\\Python312\\Lib\\site-packages\\sklearn\\preprocessing\\_label.py:132: DataConversionWarning: A column-vector y was passed when a 1d array was expected. Please change the shape of y to (n_samples, ), for example using ravel().\n",
      "  y = column_or_1d(y, dtype=self.classes_.dtype, warn=True)\n"
     ]
    },
    {
     "name": "stdout",
     "output_type": "stream",
     "text": [
      "8 times finish\n",
      "AUC: 0.93\n"
     ]
    },
    {
     "name": "stderr",
     "output_type": "stream",
     "text": [
      "c:\\Users\\wu\\AppData\\Local\\Programs\\Python\\Python312\\Lib\\site-packages\\sklearn\\preprocessing\\_label.py:97: DataConversionWarning: A column-vector y was passed when a 1d array was expected. Please change the shape of y to (n_samples, ), for example using ravel().\n",
      "  y = column_or_1d(y, warn=True)\n",
      "c:\\Users\\wu\\AppData\\Local\\Programs\\Python\\Python312\\Lib\\site-packages\\sklearn\\preprocessing\\_label.py:132: DataConversionWarning: A column-vector y was passed when a 1d array was expected. Please change the shape of y to (n_samples, ), for example using ravel().\n",
      "  y = column_or_1d(y, dtype=self.classes_.dtype, warn=True)\n"
     ]
    },
    {
     "name": "stdout",
     "output_type": "stream",
     "text": [
      "9 times finish\n",
      "AUC: 1.00\n"
     ]
    },
    {
     "name": "stderr",
     "output_type": "stream",
     "text": [
      "c:\\Users\\wu\\AppData\\Local\\Programs\\Python\\Python312\\Lib\\site-packages\\sklearn\\preprocessing\\_label.py:97: DataConversionWarning: A column-vector y was passed when a 1d array was expected. Please change the shape of y to (n_samples, ), for example using ravel().\n",
      "  y = column_or_1d(y, warn=True)\n",
      "c:\\Users\\wu\\AppData\\Local\\Programs\\Python\\Python312\\Lib\\site-packages\\sklearn\\preprocessing\\_label.py:132: DataConversionWarning: A column-vector y was passed when a 1d array was expected. Please change the shape of y to (n_samples, ), for example using ravel().\n",
      "  y = column_or_1d(y, dtype=self.classes_.dtype, warn=True)\n"
     ]
    },
    {
     "name": "stdout",
     "output_type": "stream",
     "text": [
      "10 times finish\n",
      "AUC: 0.99\n"
     ]
    },
    {
     "name": "stderr",
     "output_type": "stream",
     "text": [
      "c:\\Users\\wu\\AppData\\Local\\Programs\\Python\\Python312\\Lib\\site-packages\\sklearn\\preprocessing\\_label.py:97: DataConversionWarning: A column-vector y was passed when a 1d array was expected. Please change the shape of y to (n_samples, ), for example using ravel().\n",
      "  y = column_or_1d(y, warn=True)\n",
      "c:\\Users\\wu\\AppData\\Local\\Programs\\Python\\Python312\\Lib\\site-packages\\sklearn\\preprocessing\\_label.py:132: DataConversionWarning: A column-vector y was passed when a 1d array was expected. Please change the shape of y to (n_samples, ), for example using ravel().\n",
      "  y = column_or_1d(y, dtype=self.classes_.dtype, warn=True)\n"
     ]
    },
    {
     "name": "stdout",
     "output_type": "stream",
     "text": [
      "11 times finish\n",
      "AUC: 1.00\n"
     ]
    },
    {
     "name": "stderr",
     "output_type": "stream",
     "text": [
      "c:\\Users\\wu\\AppData\\Local\\Programs\\Python\\Python312\\Lib\\site-packages\\sklearn\\preprocessing\\_label.py:97: DataConversionWarning: A column-vector y was passed when a 1d array was expected. Please change the shape of y to (n_samples, ), for example using ravel().\n",
      "  y = column_or_1d(y, warn=True)\n",
      "c:\\Users\\wu\\AppData\\Local\\Programs\\Python\\Python312\\Lib\\site-packages\\sklearn\\preprocessing\\_label.py:132: DataConversionWarning: A column-vector y was passed when a 1d array was expected. Please change the shape of y to (n_samples, ), for example using ravel().\n",
      "  y = column_or_1d(y, dtype=self.classes_.dtype, warn=True)\n"
     ]
    },
    {
     "name": "stdout",
     "output_type": "stream",
     "text": [
      "12 times finish\n",
      "AUC: 0.94\n"
     ]
    },
    {
     "name": "stderr",
     "output_type": "stream",
     "text": [
      "c:\\Users\\wu\\AppData\\Local\\Programs\\Python\\Python312\\Lib\\site-packages\\sklearn\\preprocessing\\_label.py:97: DataConversionWarning: A column-vector y was passed when a 1d array was expected. Please change the shape of y to (n_samples, ), for example using ravel().\n",
      "  y = column_or_1d(y, warn=True)\n",
      "c:\\Users\\wu\\AppData\\Local\\Programs\\Python\\Python312\\Lib\\site-packages\\sklearn\\preprocessing\\_label.py:132: DataConversionWarning: A column-vector y was passed when a 1d array was expected. Please change the shape of y to (n_samples, ), for example using ravel().\n",
      "  y = column_or_1d(y, dtype=self.classes_.dtype, warn=True)\n"
     ]
    },
    {
     "name": "stdout",
     "output_type": "stream",
     "text": [
      "13 times finish\n",
      "AUC: 0.99\n"
     ]
    },
    {
     "name": "stderr",
     "output_type": "stream",
     "text": [
      "c:\\Users\\wu\\AppData\\Local\\Programs\\Python\\Python312\\Lib\\site-packages\\sklearn\\preprocessing\\_label.py:97: DataConversionWarning: A column-vector y was passed when a 1d array was expected. Please change the shape of y to (n_samples, ), for example using ravel().\n",
      "  y = column_or_1d(y, warn=True)\n",
      "c:\\Users\\wu\\AppData\\Local\\Programs\\Python\\Python312\\Lib\\site-packages\\sklearn\\preprocessing\\_label.py:132: DataConversionWarning: A column-vector y was passed when a 1d array was expected. Please change the shape of y to (n_samples, ), for example using ravel().\n",
      "  y = column_or_1d(y, dtype=self.classes_.dtype, warn=True)\n"
     ]
    },
    {
     "name": "stdout",
     "output_type": "stream",
     "text": [
      "14 times finish\n",
      "AUC: 0.82\n"
     ]
    },
    {
     "name": "stderr",
     "output_type": "stream",
     "text": [
      "c:\\Users\\wu\\AppData\\Local\\Programs\\Python\\Python312\\Lib\\site-packages\\sklearn\\preprocessing\\_label.py:97: DataConversionWarning: A column-vector y was passed when a 1d array was expected. Please change the shape of y to (n_samples, ), for example using ravel().\n",
      "  y = column_or_1d(y, warn=True)\n",
      "c:\\Users\\wu\\AppData\\Local\\Programs\\Python\\Python312\\Lib\\site-packages\\sklearn\\preprocessing\\_label.py:132: DataConversionWarning: A column-vector y was passed when a 1d array was expected. Please change the shape of y to (n_samples, ), for example using ravel().\n",
      "  y = column_or_1d(y, dtype=self.classes_.dtype, warn=True)\n"
     ]
    },
    {
     "name": "stdout",
     "output_type": "stream",
     "text": [
      "15 times finish\n",
      "AUC: 0.96\n"
     ]
    },
    {
     "name": "stderr",
     "output_type": "stream",
     "text": [
      "c:\\Users\\wu\\AppData\\Local\\Programs\\Python\\Python312\\Lib\\site-packages\\sklearn\\preprocessing\\_label.py:97: DataConversionWarning: A column-vector y was passed when a 1d array was expected. Please change the shape of y to (n_samples, ), for example using ravel().\n",
      "  y = column_or_1d(y, warn=True)\n",
      "c:\\Users\\wu\\AppData\\Local\\Programs\\Python\\Python312\\Lib\\site-packages\\sklearn\\preprocessing\\_label.py:132: DataConversionWarning: A column-vector y was passed when a 1d array was expected. Please change the shape of y to (n_samples, ), for example using ravel().\n",
      "  y = column_or_1d(y, dtype=self.classes_.dtype, warn=True)\n"
     ]
    },
    {
     "name": "stdout",
     "output_type": "stream",
     "text": [
      "16 times finish\n",
      "AUC: 0.64\n"
     ]
    },
    {
     "name": "stderr",
     "output_type": "stream",
     "text": [
      "c:\\Users\\wu\\AppData\\Local\\Programs\\Python\\Python312\\Lib\\site-packages\\sklearn\\preprocessing\\_label.py:97: DataConversionWarning: A column-vector y was passed when a 1d array was expected. Please change the shape of y to (n_samples, ), for example using ravel().\n",
      "  y = column_or_1d(y, warn=True)\n",
      "c:\\Users\\wu\\AppData\\Local\\Programs\\Python\\Python312\\Lib\\site-packages\\sklearn\\preprocessing\\_label.py:132: DataConversionWarning: A column-vector y was passed when a 1d array was expected. Please change the shape of y to (n_samples, ), for example using ravel().\n",
      "  y = column_or_1d(y, dtype=self.classes_.dtype, warn=True)\n"
     ]
    },
    {
     "name": "stdout",
     "output_type": "stream",
     "text": [
      "17 times finish\n",
      "AUC: 1.00\n"
     ]
    },
    {
     "name": "stderr",
     "output_type": "stream",
     "text": [
      "c:\\Users\\wu\\AppData\\Local\\Programs\\Python\\Python312\\Lib\\site-packages\\sklearn\\preprocessing\\_label.py:97: DataConversionWarning: A column-vector y was passed when a 1d array was expected. Please change the shape of y to (n_samples, ), for example using ravel().\n",
      "  y = column_or_1d(y, warn=True)\n",
      "c:\\Users\\wu\\AppData\\Local\\Programs\\Python\\Python312\\Lib\\site-packages\\sklearn\\preprocessing\\_label.py:132: DataConversionWarning: A column-vector y was passed when a 1d array was expected. Please change the shape of y to (n_samples, ), for example using ravel().\n",
      "  y = column_or_1d(y, dtype=self.classes_.dtype, warn=True)\n"
     ]
    },
    {
     "name": "stdout",
     "output_type": "stream",
     "text": [
      "18 times finish\n",
      "AUC: 0.86\n"
     ]
    },
    {
     "name": "stderr",
     "output_type": "stream",
     "text": [
      "c:\\Users\\wu\\AppData\\Local\\Programs\\Python\\Python312\\Lib\\site-packages\\sklearn\\preprocessing\\_label.py:97: DataConversionWarning: A column-vector y was passed when a 1d array was expected. Please change the shape of y to (n_samples, ), for example using ravel().\n",
      "  y = column_or_1d(y, warn=True)\n",
      "c:\\Users\\wu\\AppData\\Local\\Programs\\Python\\Python312\\Lib\\site-packages\\sklearn\\preprocessing\\_label.py:132: DataConversionWarning: A column-vector y was passed when a 1d array was expected. Please change the shape of y to (n_samples, ), for example using ravel().\n",
      "  y = column_or_1d(y, dtype=self.classes_.dtype, warn=True)\n"
     ]
    },
    {
     "name": "stdout",
     "output_type": "stream",
     "text": [
      "19 times finish\n",
      "AUC: 1.00\n"
     ]
    },
    {
     "name": "stderr",
     "output_type": "stream",
     "text": [
      "c:\\Users\\wu\\AppData\\Local\\Programs\\Python\\Python312\\Lib\\site-packages\\sklearn\\preprocessing\\_label.py:97: DataConversionWarning: A column-vector y was passed when a 1d array was expected. Please change the shape of y to (n_samples, ), for example using ravel().\n",
      "  y = column_or_1d(y, warn=True)\n",
      "c:\\Users\\wu\\AppData\\Local\\Programs\\Python\\Python312\\Lib\\site-packages\\sklearn\\preprocessing\\_label.py:132: DataConversionWarning: A column-vector y was passed when a 1d array was expected. Please change the shape of y to (n_samples, ), for example using ravel().\n",
      "  y = column_or_1d(y, dtype=self.classes_.dtype, warn=True)\n"
     ]
    },
    {
     "name": "stdout",
     "output_type": "stream",
     "text": [
      "20 times finish\n",
      "AUC: 0.85\n"
     ]
    },
    {
     "name": "stderr",
     "output_type": "stream",
     "text": [
      "c:\\Users\\wu\\AppData\\Local\\Programs\\Python\\Python312\\Lib\\site-packages\\sklearn\\preprocessing\\_label.py:97: DataConversionWarning: A column-vector y was passed when a 1d array was expected. Please change the shape of y to (n_samples, ), for example using ravel().\n",
      "  y = column_or_1d(y, warn=True)\n",
      "c:\\Users\\wu\\AppData\\Local\\Programs\\Python\\Python312\\Lib\\site-packages\\sklearn\\preprocessing\\_label.py:132: DataConversionWarning: A column-vector y was passed when a 1d array was expected. Please change the shape of y to (n_samples, ), for example using ravel().\n",
      "  y = column_or_1d(y, dtype=self.classes_.dtype, warn=True)\n"
     ]
    },
    {
     "name": "stdout",
     "output_type": "stream",
     "text": [
      "21 times finish\n",
      "AUC: 0.96\n"
     ]
    },
    {
     "name": "stderr",
     "output_type": "stream",
     "text": [
      "c:\\Users\\wu\\AppData\\Local\\Programs\\Python\\Python312\\Lib\\site-packages\\sklearn\\preprocessing\\_label.py:97: DataConversionWarning: A column-vector y was passed when a 1d array was expected. Please change the shape of y to (n_samples, ), for example using ravel().\n",
      "  y = column_or_1d(y, warn=True)\n",
      "c:\\Users\\wu\\AppData\\Local\\Programs\\Python\\Python312\\Lib\\site-packages\\sklearn\\preprocessing\\_label.py:132: DataConversionWarning: A column-vector y was passed when a 1d array was expected. Please change the shape of y to (n_samples, ), for example using ravel().\n",
      "  y = column_or_1d(y, dtype=self.classes_.dtype, warn=True)\n"
     ]
    },
    {
     "name": "stdout",
     "output_type": "stream",
     "text": [
      "22 times finish\n",
      "AUC: 1.00\n"
     ]
    },
    {
     "name": "stderr",
     "output_type": "stream",
     "text": [
      "c:\\Users\\wu\\AppData\\Local\\Programs\\Python\\Python312\\Lib\\site-packages\\sklearn\\preprocessing\\_label.py:97: DataConversionWarning: A column-vector y was passed when a 1d array was expected. Please change the shape of y to (n_samples, ), for example using ravel().\n",
      "  y = column_or_1d(y, warn=True)\n",
      "c:\\Users\\wu\\AppData\\Local\\Programs\\Python\\Python312\\Lib\\site-packages\\sklearn\\preprocessing\\_label.py:132: DataConversionWarning: A column-vector y was passed when a 1d array was expected. Please change the shape of y to (n_samples, ), for example using ravel().\n",
      "  y = column_or_1d(y, dtype=self.classes_.dtype, warn=True)\n"
     ]
    },
    {
     "name": "stdout",
     "output_type": "stream",
     "text": [
      "23 times finish\n",
      "AUC: 0.85\n"
     ]
    },
    {
     "name": "stderr",
     "output_type": "stream",
     "text": [
      "c:\\Users\\wu\\AppData\\Local\\Programs\\Python\\Python312\\Lib\\site-packages\\sklearn\\preprocessing\\_label.py:97: DataConversionWarning: A column-vector y was passed when a 1d array was expected. Please change the shape of y to (n_samples, ), for example using ravel().\n",
      "  y = column_or_1d(y, warn=True)\n",
      "c:\\Users\\wu\\AppData\\Local\\Programs\\Python\\Python312\\Lib\\site-packages\\sklearn\\preprocessing\\_label.py:132: DataConversionWarning: A column-vector y was passed when a 1d array was expected. Please change the shape of y to (n_samples, ), for example using ravel().\n",
      "  y = column_or_1d(y, dtype=self.classes_.dtype, warn=True)\n"
     ]
    },
    {
     "name": "stdout",
     "output_type": "stream",
     "text": [
      "24 times finish\n",
      "AUC: 0.80\n"
     ]
    },
    {
     "name": "stderr",
     "output_type": "stream",
     "text": [
      "c:\\Users\\wu\\AppData\\Local\\Programs\\Python\\Python312\\Lib\\site-packages\\sklearn\\preprocessing\\_label.py:97: DataConversionWarning: A column-vector y was passed when a 1d array was expected. Please change the shape of y to (n_samples, ), for example using ravel().\n",
      "  y = column_or_1d(y, warn=True)\n",
      "c:\\Users\\wu\\AppData\\Local\\Programs\\Python\\Python312\\Lib\\site-packages\\sklearn\\preprocessing\\_label.py:132: DataConversionWarning: A column-vector y was passed when a 1d array was expected. Please change the shape of y to (n_samples, ), for example using ravel().\n",
      "  y = column_or_1d(y, dtype=self.classes_.dtype, warn=True)\n"
     ]
    },
    {
     "name": "stdout",
     "output_type": "stream",
     "text": [
      "25 times finish\n",
      "AUC: 0.80\n"
     ]
    },
    {
     "name": "stderr",
     "output_type": "stream",
     "text": [
      "c:\\Users\\wu\\AppData\\Local\\Programs\\Python\\Python312\\Lib\\site-packages\\sklearn\\preprocessing\\_label.py:97: DataConversionWarning: A column-vector y was passed when a 1d array was expected. Please change the shape of y to (n_samples, ), for example using ravel().\n",
      "  y = column_or_1d(y, warn=True)\n",
      "c:\\Users\\wu\\AppData\\Local\\Programs\\Python\\Python312\\Lib\\site-packages\\sklearn\\preprocessing\\_label.py:132: DataConversionWarning: A column-vector y was passed when a 1d array was expected. Please change the shape of y to (n_samples, ), for example using ravel().\n",
      "  y = column_or_1d(y, dtype=self.classes_.dtype, warn=True)\n"
     ]
    },
    {
     "name": "stdout",
     "output_type": "stream",
     "text": [
      "26 times finish\n",
      "AUC: 1.00\n"
     ]
    },
    {
     "name": "stderr",
     "output_type": "stream",
     "text": [
      "c:\\Users\\wu\\AppData\\Local\\Programs\\Python\\Python312\\Lib\\site-packages\\sklearn\\preprocessing\\_label.py:97: DataConversionWarning: A column-vector y was passed when a 1d array was expected. Please change the shape of y to (n_samples, ), for example using ravel().\n",
      "  y = column_or_1d(y, warn=True)\n",
      "c:\\Users\\wu\\AppData\\Local\\Programs\\Python\\Python312\\Lib\\site-packages\\sklearn\\preprocessing\\_label.py:132: DataConversionWarning: A column-vector y was passed when a 1d array was expected. Please change the shape of y to (n_samples, ), for example using ravel().\n",
      "  y = column_or_1d(y, dtype=self.classes_.dtype, warn=True)\n"
     ]
    },
    {
     "name": "stdout",
     "output_type": "stream",
     "text": [
      "27 times finish\n",
      "AUC: 0.85\n"
     ]
    },
    {
     "name": "stderr",
     "output_type": "stream",
     "text": [
      "c:\\Users\\wu\\AppData\\Local\\Programs\\Python\\Python312\\Lib\\site-packages\\sklearn\\preprocessing\\_label.py:97: DataConversionWarning: A column-vector y was passed when a 1d array was expected. Please change the shape of y to (n_samples, ), for example using ravel().\n",
      "  y = column_or_1d(y, warn=True)\n",
      "c:\\Users\\wu\\AppData\\Local\\Programs\\Python\\Python312\\Lib\\site-packages\\sklearn\\preprocessing\\_label.py:132: DataConversionWarning: A column-vector y was passed when a 1d array was expected. Please change the shape of y to (n_samples, ), for example using ravel().\n",
      "  y = column_or_1d(y, dtype=self.classes_.dtype, warn=True)\n"
     ]
    },
    {
     "name": "stdout",
     "output_type": "stream",
     "text": [
      "28 times finish\n",
      "AUC: 0.86\n"
     ]
    },
    {
     "name": "stderr",
     "output_type": "stream",
     "text": [
      "c:\\Users\\wu\\AppData\\Local\\Programs\\Python\\Python312\\Lib\\site-packages\\sklearn\\preprocessing\\_label.py:97: DataConversionWarning: A column-vector y was passed when a 1d array was expected. Please change the shape of y to (n_samples, ), for example using ravel().\n",
      "  y = column_or_1d(y, warn=True)\n",
      "c:\\Users\\wu\\AppData\\Local\\Programs\\Python\\Python312\\Lib\\site-packages\\sklearn\\preprocessing\\_label.py:132: DataConversionWarning: A column-vector y was passed when a 1d array was expected. Please change the shape of y to (n_samples, ), for example using ravel().\n",
      "  y = column_or_1d(y, dtype=self.classes_.dtype, warn=True)\n"
     ]
    },
    {
     "name": "stdout",
     "output_type": "stream",
     "text": [
      "29 times finish\n",
      "AUC: 1.00\n"
     ]
    },
    {
     "name": "stderr",
     "output_type": "stream",
     "text": [
      "c:\\Users\\wu\\AppData\\Local\\Programs\\Python\\Python312\\Lib\\site-packages\\sklearn\\preprocessing\\_label.py:97: DataConversionWarning: A column-vector y was passed when a 1d array was expected. Please change the shape of y to (n_samples, ), for example using ravel().\n",
      "  y = column_or_1d(y, warn=True)\n",
      "c:\\Users\\wu\\AppData\\Local\\Programs\\Python\\Python312\\Lib\\site-packages\\sklearn\\preprocessing\\_label.py:132: DataConversionWarning: A column-vector y was passed when a 1d array was expected. Please change the shape of y to (n_samples, ), for example using ravel().\n",
      "  y = column_or_1d(y, dtype=self.classes_.dtype, warn=True)\n"
     ]
    },
    {
     "name": "stdout",
     "output_type": "stream",
     "text": [
      "30 times finish\n",
      "AUC: 0.88\n"
     ]
    },
    {
     "name": "stderr",
     "output_type": "stream",
     "text": [
      "c:\\Users\\wu\\AppData\\Local\\Programs\\Python\\Python312\\Lib\\site-packages\\sklearn\\preprocessing\\_label.py:97: DataConversionWarning: A column-vector y was passed when a 1d array was expected. Please change the shape of y to (n_samples, ), for example using ravel().\n",
      "  y = column_or_1d(y, warn=True)\n",
      "c:\\Users\\wu\\AppData\\Local\\Programs\\Python\\Python312\\Lib\\site-packages\\sklearn\\preprocessing\\_label.py:132: DataConversionWarning: A column-vector y was passed when a 1d array was expected. Please change the shape of y to (n_samples, ), for example using ravel().\n",
      "  y = column_or_1d(y, dtype=self.classes_.dtype, warn=True)\n"
     ]
    },
    {
     "name": "stdout",
     "output_type": "stream",
     "text": [
      "31 times finish\n",
      "AUC: 0.77\n"
     ]
    },
    {
     "name": "stderr",
     "output_type": "stream",
     "text": [
      "c:\\Users\\wu\\AppData\\Local\\Programs\\Python\\Python312\\Lib\\site-packages\\sklearn\\preprocessing\\_label.py:97: DataConversionWarning: A column-vector y was passed when a 1d array was expected. Please change the shape of y to (n_samples, ), for example using ravel().\n",
      "  y = column_or_1d(y, warn=True)\n",
      "c:\\Users\\wu\\AppData\\Local\\Programs\\Python\\Python312\\Lib\\site-packages\\sklearn\\preprocessing\\_label.py:132: DataConversionWarning: A column-vector y was passed when a 1d array was expected. Please change the shape of y to (n_samples, ), for example using ravel().\n",
      "  y = column_or_1d(y, dtype=self.classes_.dtype, warn=True)\n"
     ]
    },
    {
     "name": "stdout",
     "output_type": "stream",
     "text": [
      "32 times finish\n",
      "AUC: 0.99\n"
     ]
    },
    {
     "name": "stderr",
     "output_type": "stream",
     "text": [
      "c:\\Users\\wu\\AppData\\Local\\Programs\\Python\\Python312\\Lib\\site-packages\\sklearn\\preprocessing\\_label.py:97: DataConversionWarning: A column-vector y was passed when a 1d array was expected. Please change the shape of y to (n_samples, ), for example using ravel().\n",
      "  y = column_or_1d(y, warn=True)\n",
      "c:\\Users\\wu\\AppData\\Local\\Programs\\Python\\Python312\\Lib\\site-packages\\sklearn\\preprocessing\\_label.py:132: DataConversionWarning: A column-vector y was passed when a 1d array was expected. Please change the shape of y to (n_samples, ), for example using ravel().\n",
      "  y = column_or_1d(y, dtype=self.classes_.dtype, warn=True)\n"
     ]
    },
    {
     "name": "stdout",
     "output_type": "stream",
     "text": [
      "33 times finish\n",
      "AUC: 0.51\n"
     ]
    },
    {
     "name": "stderr",
     "output_type": "stream",
     "text": [
      "c:\\Users\\wu\\AppData\\Local\\Programs\\Python\\Python312\\Lib\\site-packages\\sklearn\\preprocessing\\_label.py:97: DataConversionWarning: A column-vector y was passed when a 1d array was expected. Please change the shape of y to (n_samples, ), for example using ravel().\n",
      "  y = column_or_1d(y, warn=True)\n",
      "c:\\Users\\wu\\AppData\\Local\\Programs\\Python\\Python312\\Lib\\site-packages\\sklearn\\preprocessing\\_label.py:132: DataConversionWarning: A column-vector y was passed when a 1d array was expected. Please change the shape of y to (n_samples, ), for example using ravel().\n",
      "  y = column_or_1d(y, dtype=self.classes_.dtype, warn=True)\n"
     ]
    },
    {
     "name": "stdout",
     "output_type": "stream",
     "text": [
      "34 times finish\n",
      "AUC: 0.86\n"
     ]
    },
    {
     "name": "stderr",
     "output_type": "stream",
     "text": [
      "c:\\Users\\wu\\AppData\\Local\\Programs\\Python\\Python312\\Lib\\site-packages\\sklearn\\preprocessing\\_label.py:97: DataConversionWarning: A column-vector y was passed when a 1d array was expected. Please change the shape of y to (n_samples, ), for example using ravel().\n",
      "  y = column_or_1d(y, warn=True)\n",
      "c:\\Users\\wu\\AppData\\Local\\Programs\\Python\\Python312\\Lib\\site-packages\\sklearn\\preprocessing\\_label.py:132: DataConversionWarning: A column-vector y was passed when a 1d array was expected. Please change the shape of y to (n_samples, ), for example using ravel().\n",
      "  y = column_or_1d(y, dtype=self.classes_.dtype, warn=True)\n"
     ]
    },
    {
     "name": "stdout",
     "output_type": "stream",
     "text": [
      "35 times finish\n",
      "AUC: 1.00\n"
     ]
    },
    {
     "name": "stderr",
     "output_type": "stream",
     "text": [
      "c:\\Users\\wu\\AppData\\Local\\Programs\\Python\\Python312\\Lib\\site-packages\\sklearn\\preprocessing\\_label.py:97: DataConversionWarning: A column-vector y was passed when a 1d array was expected. Please change the shape of y to (n_samples, ), for example using ravel().\n",
      "  y = column_or_1d(y, warn=True)\n",
      "c:\\Users\\wu\\AppData\\Local\\Programs\\Python\\Python312\\Lib\\site-packages\\sklearn\\preprocessing\\_label.py:132: DataConversionWarning: A column-vector y was passed when a 1d array was expected. Please change the shape of y to (n_samples, ), for example using ravel().\n",
      "  y = column_or_1d(y, dtype=self.classes_.dtype, warn=True)\n"
     ]
    },
    {
     "name": "stdout",
     "output_type": "stream",
     "text": [
      "36 times finish\n",
      "AUC: 1.00\n"
     ]
    },
    {
     "name": "stderr",
     "output_type": "stream",
     "text": [
      "c:\\Users\\wu\\AppData\\Local\\Programs\\Python\\Python312\\Lib\\site-packages\\sklearn\\preprocessing\\_label.py:97: DataConversionWarning: A column-vector y was passed when a 1d array was expected. Please change the shape of y to (n_samples, ), for example using ravel().\n",
      "  y = column_or_1d(y, warn=True)\n",
      "c:\\Users\\wu\\AppData\\Local\\Programs\\Python\\Python312\\Lib\\site-packages\\sklearn\\preprocessing\\_label.py:132: DataConversionWarning: A column-vector y was passed when a 1d array was expected. Please change the shape of y to (n_samples, ), for example using ravel().\n",
      "  y = column_or_1d(y, dtype=self.classes_.dtype, warn=True)\n"
     ]
    },
    {
     "name": "stdout",
     "output_type": "stream",
     "text": [
      "37 times finish\n",
      "AUC: 0.80\n"
     ]
    },
    {
     "name": "stderr",
     "output_type": "stream",
     "text": [
      "c:\\Users\\wu\\AppData\\Local\\Programs\\Python\\Python312\\Lib\\site-packages\\sklearn\\preprocessing\\_label.py:97: DataConversionWarning: A column-vector y was passed when a 1d array was expected. Please change the shape of y to (n_samples, ), for example using ravel().\n",
      "  y = column_or_1d(y, warn=True)\n",
      "c:\\Users\\wu\\AppData\\Local\\Programs\\Python\\Python312\\Lib\\site-packages\\sklearn\\preprocessing\\_label.py:132: DataConversionWarning: A column-vector y was passed when a 1d array was expected. Please change the shape of y to (n_samples, ), for example using ravel().\n",
      "  y = column_or_1d(y, dtype=self.classes_.dtype, warn=True)\n"
     ]
    },
    {
     "name": "stdout",
     "output_type": "stream",
     "text": [
      "38 times finish\n",
      "AUC: 1.00\n"
     ]
    },
    {
     "name": "stderr",
     "output_type": "stream",
     "text": [
      "c:\\Users\\wu\\AppData\\Local\\Programs\\Python\\Python312\\Lib\\site-packages\\sklearn\\preprocessing\\_label.py:97: DataConversionWarning: A column-vector y was passed when a 1d array was expected. Please change the shape of y to (n_samples, ), for example using ravel().\n",
      "  y = column_or_1d(y, warn=True)\n",
      "c:\\Users\\wu\\AppData\\Local\\Programs\\Python\\Python312\\Lib\\site-packages\\sklearn\\preprocessing\\_label.py:132: DataConversionWarning: A column-vector y was passed when a 1d array was expected. Please change the shape of y to (n_samples, ), for example using ravel().\n",
      "  y = column_or_1d(y, dtype=self.classes_.dtype, warn=True)\n"
     ]
    },
    {
     "name": "stdout",
     "output_type": "stream",
     "text": [
      "39 times finish\n",
      "AUC: 1.00\n"
     ]
    },
    {
     "name": "stderr",
     "output_type": "stream",
     "text": [
      "c:\\Users\\wu\\AppData\\Local\\Programs\\Python\\Python312\\Lib\\site-packages\\sklearn\\preprocessing\\_label.py:97: DataConversionWarning: A column-vector y was passed when a 1d array was expected. Please change the shape of y to (n_samples, ), for example using ravel().\n",
      "  y = column_or_1d(y, warn=True)\n",
      "c:\\Users\\wu\\AppData\\Local\\Programs\\Python\\Python312\\Lib\\site-packages\\sklearn\\preprocessing\\_label.py:132: DataConversionWarning: A column-vector y was passed when a 1d array was expected. Please change the shape of y to (n_samples, ), for example using ravel().\n",
      "  y = column_or_1d(y, dtype=self.classes_.dtype, warn=True)\n"
     ]
    },
    {
     "name": "stdout",
     "output_type": "stream",
     "text": [
      "40 times finish\n",
      "AUC: 0.92\n"
     ]
    },
    {
     "name": "stderr",
     "output_type": "stream",
     "text": [
      "c:\\Users\\wu\\AppData\\Local\\Programs\\Python\\Python312\\Lib\\site-packages\\sklearn\\preprocessing\\_label.py:97: DataConversionWarning: A column-vector y was passed when a 1d array was expected. Please change the shape of y to (n_samples, ), for example using ravel().\n",
      "  y = column_or_1d(y, warn=True)\n",
      "c:\\Users\\wu\\AppData\\Local\\Programs\\Python\\Python312\\Lib\\site-packages\\sklearn\\preprocessing\\_label.py:132: DataConversionWarning: A column-vector y was passed when a 1d array was expected. Please change the shape of y to (n_samples, ), for example using ravel().\n",
      "  y = column_or_1d(y, dtype=self.classes_.dtype, warn=True)\n"
     ]
    },
    {
     "name": "stdout",
     "output_type": "stream",
     "text": [
      "41 times finish\n",
      "AUC: 0.80\n",
      "42 times finish\n",
      "AUC: 1.00\n"
     ]
    },
    {
     "name": "stderr",
     "output_type": "stream",
     "text": [
      "c:\\Users\\wu\\AppData\\Local\\Programs\\Python\\Python312\\Lib\\site-packages\\sklearn\\preprocessing\\_label.py:97: DataConversionWarning: A column-vector y was passed when a 1d array was expected. Please change the shape of y to (n_samples, ), for example using ravel().\n",
      "  y = column_or_1d(y, warn=True)\n",
      "c:\\Users\\wu\\AppData\\Local\\Programs\\Python\\Python312\\Lib\\site-packages\\sklearn\\preprocessing\\_label.py:132: DataConversionWarning: A column-vector y was passed when a 1d array was expected. Please change the shape of y to (n_samples, ), for example using ravel().\n",
      "  y = column_or_1d(y, dtype=self.classes_.dtype, warn=True)\n",
      "c:\\Users\\wu\\AppData\\Local\\Programs\\Python\\Python312\\Lib\\site-packages\\sklearn\\preprocessing\\_label.py:97: DataConversionWarning: A column-vector y was passed when a 1d array was expected. Please change the shape of y to (n_samples, ), for example using ravel().\n",
      "  y = column_or_1d(y, warn=True)\n",
      "c:\\Users\\wu\\AppData\\Local\\Programs\\Python\\Python312\\Lib\\site-packages\\sklearn\\preprocessing\\_label.py:132: DataConversionWarning: A column-vector y was passed when a 1d array was expected. Please change the shape of y to (n_samples, ), for example using ravel().\n",
      "  y = column_or_1d(y, dtype=self.classes_.dtype, warn=True)\n"
     ]
    },
    {
     "name": "stdout",
     "output_type": "stream",
     "text": [
      "43 times finish\n",
      "AUC: 0.99\n"
     ]
    },
    {
     "name": "stderr",
     "output_type": "stream",
     "text": [
      "c:\\Users\\wu\\AppData\\Local\\Programs\\Python\\Python312\\Lib\\site-packages\\sklearn\\preprocessing\\_label.py:97: DataConversionWarning: A column-vector y was passed when a 1d array was expected. Please change the shape of y to (n_samples, ), for example using ravel().\n",
      "  y = column_or_1d(y, warn=True)\n",
      "c:\\Users\\wu\\AppData\\Local\\Programs\\Python\\Python312\\Lib\\site-packages\\sklearn\\preprocessing\\_label.py:132: DataConversionWarning: A column-vector y was passed when a 1d array was expected. Please change the shape of y to (n_samples, ), for example using ravel().\n",
      "  y = column_or_1d(y, dtype=self.classes_.dtype, warn=True)\n"
     ]
    },
    {
     "name": "stdout",
     "output_type": "stream",
     "text": [
      "44 times finish\n",
      "AUC: 0.74\n"
     ]
    },
    {
     "name": "stderr",
     "output_type": "stream",
     "text": [
      "c:\\Users\\wu\\AppData\\Local\\Programs\\Python\\Python312\\Lib\\site-packages\\sklearn\\preprocessing\\_label.py:97: DataConversionWarning: A column-vector y was passed when a 1d array was expected. Please change the shape of y to (n_samples, ), for example using ravel().\n",
      "  y = column_or_1d(y, warn=True)\n",
      "c:\\Users\\wu\\AppData\\Local\\Programs\\Python\\Python312\\Lib\\site-packages\\sklearn\\preprocessing\\_label.py:132: DataConversionWarning: A column-vector y was passed when a 1d array was expected. Please change the shape of y to (n_samples, ), for example using ravel().\n",
      "  y = column_or_1d(y, dtype=self.classes_.dtype, warn=True)\n"
     ]
    },
    {
     "name": "stdout",
     "output_type": "stream",
     "text": [
      "45 times finish\n",
      "AUC: 0.97\n"
     ]
    },
    {
     "name": "stderr",
     "output_type": "stream",
     "text": [
      "c:\\Users\\wu\\AppData\\Local\\Programs\\Python\\Python312\\Lib\\site-packages\\sklearn\\preprocessing\\_label.py:97: DataConversionWarning: A column-vector y was passed when a 1d array was expected. Please change the shape of y to (n_samples, ), for example using ravel().\n",
      "  y = column_or_1d(y, warn=True)\n",
      "c:\\Users\\wu\\AppData\\Local\\Programs\\Python\\Python312\\Lib\\site-packages\\sklearn\\preprocessing\\_label.py:132: DataConversionWarning: A column-vector y was passed when a 1d array was expected. Please change the shape of y to (n_samples, ), for example using ravel().\n",
      "  y = column_or_1d(y, dtype=self.classes_.dtype, warn=True)\n"
     ]
    },
    {
     "name": "stdout",
     "output_type": "stream",
     "text": [
      "46 times finish\n",
      "AUC: 0.98\n"
     ]
    },
    {
     "name": "stderr",
     "output_type": "stream",
     "text": [
      "c:\\Users\\wu\\AppData\\Local\\Programs\\Python\\Python312\\Lib\\site-packages\\sklearn\\preprocessing\\_label.py:97: DataConversionWarning: A column-vector y was passed when a 1d array was expected. Please change the shape of y to (n_samples, ), for example using ravel().\n",
      "  y = column_or_1d(y, warn=True)\n",
      "c:\\Users\\wu\\AppData\\Local\\Programs\\Python\\Python312\\Lib\\site-packages\\sklearn\\preprocessing\\_label.py:132: DataConversionWarning: A column-vector y was passed when a 1d array was expected. Please change the shape of y to (n_samples, ), for example using ravel().\n",
      "  y = column_or_1d(y, dtype=self.classes_.dtype, warn=True)\n"
     ]
    },
    {
     "name": "stdout",
     "output_type": "stream",
     "text": [
      "47 times finish\n",
      "AUC: 0.95\n"
     ]
    },
    {
     "name": "stderr",
     "output_type": "stream",
     "text": [
      "c:\\Users\\wu\\AppData\\Local\\Programs\\Python\\Python312\\Lib\\site-packages\\sklearn\\preprocessing\\_label.py:97: DataConversionWarning: A column-vector y was passed when a 1d array was expected. Please change the shape of y to (n_samples, ), for example using ravel().\n",
      "  y = column_or_1d(y, warn=True)\n",
      "c:\\Users\\wu\\AppData\\Local\\Programs\\Python\\Python312\\Lib\\site-packages\\sklearn\\preprocessing\\_label.py:132: DataConversionWarning: A column-vector y was passed when a 1d array was expected. Please change the shape of y to (n_samples, ), for example using ravel().\n",
      "  y = column_or_1d(y, dtype=self.classes_.dtype, warn=True)\n"
     ]
    },
    {
     "name": "stdout",
     "output_type": "stream",
     "text": [
      "48 times finish\n",
      "AUC: 0.89\n"
     ]
    }
   ],
   "source": [
    "from sklearn.ensemble import VotingClassifier\n",
    "\n",
    "y_predicts_voting = []\n",
    "for i in range(len(dataset_names)):\n",
    "    X_train_part, X_valid, y_train_part, y_valid = train_test_split(X_trains[i], y_trains[i], test_size=0.2, random_state=42)\n",
    "    \n",
    "    # 準備基模型\n",
    "    base_models = [\n",
    "        ('rf', RandomForestClassifier(n_estimators=100, random_state=42)),\n",
    "        ('gb', GradientBoostingClassifier(n_estimators=100, learning_rate=0.1, max_depth=3, random_state=42)),\n",
    "        ('xgb', xgb.XGBClassifier(n_estimators=100, learning_rate=0.1, max_depth=3, random_state=42))\n",
    "    ]\n",
    "\n",
    "    # 初始化Voting Classifier\n",
    "    voting_model = VotingClassifier(estimators=base_models, voting='soft')\n",
    "\n",
    "    # 訓練Voting Classifier\n",
    "    voting_model.fit(X_train_part, y_train_part)\n",
    "\n",
    "    # 使用驗證集進行預測\n",
    "    y_pred = voting_model.predict(X_valid)\n",
    "    y_pred_proba = voting_model.predict_proba(X_valid)[:, 1]\n",
    "\n",
    "    # 評估模型\n",
    "    accuracy = accuracy_score(y_valid, y_pred)\n",
    "    auc = roc_auc_score(y_valid, y_pred_proba)\n",
    "\n",
    "    print(f\"{i} times finish\")\n",
    "    print(f\"AUC: {auc:.2f}\")\n",
    "\n",
    "    # 使用訓練好的Voting模型來預測X_test並儲存結果\n",
    "    y_test_pred = voting_model.predict_proba(X_tests[i])[:, 1]\n",
    "    df = pd.DataFrame(y_test_pred, columns=['y_predict_proba'])\n",
    "    y_predicts_voting.append(df)"
   ]
  },
  {
   "cell_type": "code",
   "execution_count": 37,
   "metadata": {},
   "outputs": [],
   "source": [
    "for idx,dataset_name in enumerate(dataset_names):\n",
    "    df=y_predicts_voting[idx]\n",
    "    df.to_csv(f'./Competition_data/{dataset_name}/y_predict.csv', index=False,header=True)"
   ]
  },
  {
   "cell_type": "code",
   "execution_count": 39,
   "metadata": {},
   "outputs": [
    {
     "data": {
      "image/png": "[encoded data removed]",
      "text/plain": [
       "<Figure size 640x480 with 1 Axes>"
      ]
     },
     "metadata": {},
     "output_type": "display_data"
    }
   ],
   "source": [
    "from sklearn.metrics import roc_curve, auc\n",
    "\n",
    "import matplotlib.pyplot as plt\n",
    "\n",
    "# Assuming y_valid and y_pred_proba are defined\n",
    "fpr, tpr, thresholds = roc_curve(y_valid, y_pred_proba)\n",
    "roc_auc = auc(fpr, tpr)\n",
    "\n",
    "plt.figure()\n",
    "plt.plot(fpr, tpr, color='darkorange', lw=2, label=f'ROC curve (area = {roc_auc:.2f})')\n",
    "plt.plot([0, 1], [0, 1], color='navy', lw=2, linestyle='--')\n",
    "plt.xlim([0.0, 1.0])\n",
    "plt.ylim([0.0, 1.05])\n",
    "plt.xlabel('False Positive Rate')\n",
    "plt.ylabel('True Positive Rate')\n",
    "plt.title('Receiver Operating Characteristic')\n",
    "plt.legend(loc=\"lower right\")\n",
    "plt.show()"
   ]
  },
  {
   "cell_type": "markdown",
   "metadata": {},
   "source": [
    "使用stack處理"
   ]
  },
  {
   "cell_type": "code",
   "execution_count": null,
   "metadata": {},
   "outputs": [
    {
     "name": "stderr",
     "output_type": "stream",
     "text": [
      "c:\\Users\\wu\\AppData\\Local\\Programs\\Python\\Python312\\Lib\\site-packages\\sklearn\\preprocessing\\_label.py:97: DataConversionWarning: A column-vector y was passed when a 1d array was expected. Please change the shape of y to (n_samples, ), for example using ravel().\n",
      "  y = column_or_1d(y, warn=True)\n",
      "c:\\Users\\wu\\AppData\\Local\\Programs\\Python\\Python312\\Lib\\site-packages\\sklearn\\preprocessing\\_label.py:132: DataConversionWarning: A column-vector y was passed when a 1d array was expected. Please change the shape of y to (n_samples, ), for example using ravel().\n",
      "  y = column_or_1d(y, dtype=self.classes_.dtype, warn=True)\n"
     ]
    },
    {
     "name": "stdout",
     "output_type": "stream",
     "text": [
      "0times finish\n",
      "AUC: 0.85\n"
     ]
    },
    {
     "name": "stderr",
     "output_type": "stream",
     "text": [
      "c:\\Users\\wu\\AppData\\Local\\Programs\\Python\\Python312\\Lib\\site-packages\\sklearn\\preprocessing\\_label.py:97: DataConversionWarning: A column-vector y was passed when a 1d array was expected. Please change the shape of y to (n_samples, ), for example using ravel().\n",
      "  y = column_or_1d(y, warn=True)\n",
      "c:\\Users\\wu\\AppData\\Local\\Programs\\Python\\Python312\\Lib\\site-packages\\sklearn\\preprocessing\\_label.py:132: DataConversionWarning: A column-vector y was passed when a 1d array was expected. Please change the shape of y to (n_samples, ), for example using ravel().\n",
      "  y = column_or_1d(y, dtype=self.classes_.dtype, warn=True)\n"
     ]
    },
    {
     "name": "stdout",
     "output_type": "stream",
     "text": [
      "1times finish\n",
      "AUC: 0.77\n"
     ]
    },
    {
     "name": "stderr",
     "output_type": "stream",
     "text": [
      "c:\\Users\\wu\\AppData\\Local\\Programs\\Python\\Python312\\Lib\\site-packages\\sklearn\\preprocessing\\_label.py:97: DataConversionWarning: A column-vector y was passed when a 1d array was expected. Please change the shape of y to (n_samples, ), for example using ravel().\n",
      "  y = column_or_1d(y, warn=True)\n",
      "c:\\Users\\wu\\AppData\\Local\\Programs\\Python\\Python312\\Lib\\site-packages\\sklearn\\preprocessing\\_label.py:132: DataConversionWarning: A column-vector y was passed when a 1d array was expected. Please change the shape of y to (n_samples, ), for example using ravel().\n",
      "  y = column_or_1d(y, dtype=self.classes_.dtype, warn=True)\n",
      "c:\\Users\\wu\\AppData\\Local\\Programs\\Python\\Python312\\Lib\\site-packages\\sklearn\\model_selection\\_split.py:776: UserWarning: The least populated class in y has only 6 members, which is less than n_splits=10.\n",
      "  warnings.warn(\n",
      "c:\\Users\\wu\\AppData\\Local\\Programs\\Python\\Python312\\Lib\\site-packages\\sklearn\\model_selection\\_split.py:776: UserWarning: The least populated class in y has only 6 members, which is less than n_splits=10.\n",
      "  warnings.warn(\n",
      "c:\\Users\\wu\\AppData\\Local\\Programs\\Python\\Python312\\Lib\\site-packages\\sklearn\\model_selection\\_split.py:776: UserWarning: The least populated class in y has only 6 members, which is less than n_splits=10.\n",
      "  warnings.warn(\n"
     ]
    },
    {
     "name": "stdout",
     "output_type": "stream",
     "text": [
      "2times finish\n",
      "AUC: 0.58\n"
     ]
    },
    {
     "name": "stderr",
     "output_type": "stream",
     "text": [
      "c:\\Users\\wu\\AppData\\Local\\Programs\\Python\\Python312\\Lib\\site-packages\\sklearn\\preprocessing\\_label.py:97: DataConversionWarning: A column-vector y was passed when a 1d array was expected. Please change the shape of y to (n_samples, ), for example using ravel().\n",
      "  y = column_or_1d(y, warn=True)\n",
      "c:\\Users\\wu\\AppData\\Local\\Programs\\Python\\Python312\\Lib\\site-packages\\sklearn\\preprocessing\\_label.py:132: DataConversionWarning: A column-vector y was passed when a 1d array was expected. Please change the shape of y to (n_samples, ), for example using ravel().\n",
      "  y = column_or_1d(y, dtype=self.classes_.dtype, warn=True)\n"
     ]
    },
    {
     "name": "stdout",
     "output_type": "stream",
     "text": [
      "3times finish\n",
      "AUC: 0.97\n"
     ]
    },
    {
     "name": "stderr",
     "output_type": "stream",
     "text": [
      "c:\\Users\\wu\\AppData\\Local\\Programs\\Python\\Python312\\Lib\\site-packages\\sklearn\\preprocessing\\_label.py:97: DataConversionWarning: A column-vector y was passed when a 1d array was expected. Please change the shape of y to (n_samples, ), for example using ravel().\n",
      "  y = column_or_1d(y, warn=True)\n",
      "c:\\Users\\wu\\AppData\\Local\\Programs\\Python\\Python312\\Lib\\site-packages\\sklearn\\preprocessing\\_label.py:132: DataConversionWarning: A column-vector y was passed when a 1d array was expected. Please change the shape of y to (n_samples, ), for example using ravel().\n",
      "  y = column_or_1d(y, dtype=self.classes_.dtype, warn=True)\n"
     ]
    },
    {
     "name": "stdout",
     "output_type": "stream",
     "text": [
      "4times finish\n",
      "AUC: 0.84\n"
     ]
    },
    {
     "name": "stderr",
     "output_type": "stream",
     "text": [
      "c:\\Users\\wu\\AppData\\Local\\Programs\\Python\\Python312\\Lib\\site-packages\\sklearn\\preprocessing\\_label.py:97: DataConversionWarning: A column-vector y was passed when a 1d array was expected. Please change the shape of y to (n_samples, ), for example using ravel().\n",
      "  y = column_or_1d(y, warn=True)\n",
      "c:\\Users\\wu\\AppData\\Local\\Programs\\Python\\Python312\\Lib\\site-packages\\sklearn\\preprocessing\\_label.py:132: DataConversionWarning: A column-vector y was passed when a 1d array was expected. Please change the shape of y to (n_samples, ), for example using ravel().\n",
      "  y = column_or_1d(y, dtype=self.classes_.dtype, warn=True)\n"
     ]
    },
    {
     "name": "stdout",
     "output_type": "stream",
     "text": [
      "5times finish\n",
      "AUC: 1.00\n"
     ]
    },
    {
     "name": "stderr",
     "output_type": "stream",
     "text": [
      "c:\\Users\\wu\\AppData\\Local\\Programs\\Python\\Python312\\Lib\\site-packages\\sklearn\\preprocessing\\_label.py:97: DataConversionWarning: A column-vector y was passed when a 1d array was expected. Please change the shape of y to (n_samples, ), for example using ravel().\n",
      "  y = column_or_1d(y, warn=True)\n",
      "c:\\Users\\wu\\AppData\\Local\\Programs\\Python\\Python312\\Lib\\site-packages\\sklearn\\preprocessing\\_label.py:132: DataConversionWarning: A column-vector y was passed when a 1d array was expected. Please change the shape of y to (n_samples, ), for example using ravel().\n",
      "  y = column_or_1d(y, dtype=self.classes_.dtype, warn=True)\n"
     ]
    },
    {
     "name": "stdout",
     "output_type": "stream",
     "text": [
      "6times finish\n",
      "AUC: 0.76\n"
     ]
    },
    {
     "name": "stderr",
     "output_type": "stream",
     "text": [
      "c:\\Users\\wu\\AppData\\Local\\Programs\\Python\\Python312\\Lib\\site-packages\\sklearn\\preprocessing\\_label.py:97: DataConversionWarning: A column-vector y was passed when a 1d array was expected. Please change the shape of y to (n_samples, ), for example using ravel().\n",
      "  y = column_or_1d(y, warn=True)\n",
      "c:\\Users\\wu\\AppData\\Local\\Programs\\Python\\Python312\\Lib\\site-packages\\sklearn\\preprocessing\\_label.py:132: DataConversionWarning: A column-vector y was passed when a 1d array was expected. Please change the shape of y to (n_samples, ), for example using ravel().\n",
      "  y = column_or_1d(y, dtype=self.classes_.dtype, warn=True)\n"
     ]
    },
    {
     "name": "stdout",
     "output_type": "stream",
     "text": [
      "7times finish\n",
      "AUC: 0.99\n"
     ]
    },
    {
     "name": "stderr",
     "output_type": "stream",
     "text": [
      "c:\\Users\\wu\\AppData\\Local\\Programs\\Python\\Python312\\Lib\\site-packages\\sklearn\\preprocessing\\_label.py:97: DataConversionWarning: A column-vector y was passed when a 1d array was expected. Please change the shape of y to (n_samples, ), for example using ravel().\n",
      "  y = column_or_1d(y, warn=True)\n",
      "c:\\Users\\wu\\AppData\\Local\\Programs\\Python\\Python312\\Lib\\site-packages\\sklearn\\preprocessing\\_label.py:132: DataConversionWarning: A column-vector y was passed when a 1d array was expected. Please change the shape of y to (n_samples, ), for example using ravel().\n",
      "  y = column_or_1d(y, dtype=self.classes_.dtype, warn=True)\n"
     ]
    },
    {
     "name": "stdout",
     "output_type": "stream",
     "text": [
      "8times finish\n",
      "AUC: 0.79\n"
     ]
    },
    {
     "name": "stderr",
     "output_type": "stream",
     "text": [
      "c:\\Users\\wu\\AppData\\Local\\Programs\\Python\\Python312\\Lib\\site-packages\\sklearn\\preprocessing\\_label.py:97: DataConversionWarning: A column-vector y was passed when a 1d array was expected. Please change the shape of y to (n_samples, ), for example using ravel().\n",
      "  y = column_or_1d(y, warn=True)\n",
      "c:\\Users\\wu\\AppData\\Local\\Programs\\Python\\Python312\\Lib\\site-packages\\sklearn\\preprocessing\\_label.py:132: DataConversionWarning: A column-vector y was passed when a 1d array was expected. Please change the shape of y to (n_samples, ), for example using ravel().\n",
      "  y = column_or_1d(y, dtype=self.classes_.dtype, warn=True)\n"
     ]
    },
    {
     "name": "stdout",
     "output_type": "stream",
     "text": [
      "9times finish\n",
      "AUC: 1.00\n"
     ]
    },
    {
     "name": "stderr",
     "output_type": "stream",
     "text": [
      "c:\\Users\\wu\\AppData\\Local\\Programs\\Python\\Python312\\Lib\\site-packages\\sklearn\\preprocessing\\_label.py:97: DataConversionWarning: A column-vector y was passed when a 1d array was expected. Please change the shape of y to (n_samples, ), for example using ravel().\n",
      "  y = column_or_1d(y, warn=True)\n",
      "c:\\Users\\wu\\AppData\\Local\\Programs\\Python\\Python312\\Lib\\site-packages\\sklearn\\preprocessing\\_label.py:132: DataConversionWarning: A column-vector y was passed when a 1d array was expected. Please change the shape of y to (n_samples, ), for example using ravel().\n",
      "  y = column_or_1d(y, dtype=self.classes_.dtype, warn=True)\n"
     ]
    },
    {
     "name": "stdout",
     "output_type": "stream",
     "text": [
      "10times finish\n",
      "AUC: 0.96\n"
     ]
    },
    {
     "name": "stderr",
     "output_type": "stream",
     "text": [
      "c:\\Users\\wu\\AppData\\Local\\Programs\\Python\\Python312\\Lib\\site-packages\\sklearn\\preprocessing\\_label.py:97: DataConversionWarning: A column-vector y was passed when a 1d array was expected. Please change the shape of y to (n_samples, ), for example using ravel().\n",
      "  y = column_or_1d(y, warn=True)\n",
      "c:\\Users\\wu\\AppData\\Local\\Programs\\Python\\Python312\\Lib\\site-packages\\sklearn\\preprocessing\\_label.py:132: DataConversionWarning: A column-vector y was passed when a 1d array was expected. Please change the shape of y to (n_samples, ), for example using ravel().\n",
      "  y = column_or_1d(y, dtype=self.classes_.dtype, warn=True)\n"
     ]
    },
    {
     "name": "stdout",
     "output_type": "stream",
     "text": [
      "11times finish\n",
      "AUC: 0.99\n"
     ]
    },
    {
     "name": "stderr",
     "output_type": "stream",
     "text": [
      "c:\\Users\\wu\\AppData\\Local\\Programs\\Python\\Python312\\Lib\\site-packages\\sklearn\\preprocessing\\_label.py:97: DataConversionWarning: A column-vector y was passed when a 1d array was expected. Please change the shape of y to (n_samples, ), for example using ravel().\n",
      "  y = column_or_1d(y, warn=True)\n",
      "c:\\Users\\wu\\AppData\\Local\\Programs\\Python\\Python312\\Lib\\site-packages\\sklearn\\preprocessing\\_label.py:132: DataConversionWarning: A column-vector y was passed when a 1d array was expected. Please change the shape of y to (n_samples, ), for example using ravel().\n",
      "  y = column_or_1d(y, dtype=self.classes_.dtype, warn=True)\n"
     ]
    },
    {
     "name": "stdout",
     "output_type": "stream",
     "text": [
      "12times finish\n",
      "AUC: 0.81\n"
     ]
    },
    {
     "name": "stderr",
     "output_type": "stream",
     "text": [
      "c:\\Users\\wu\\AppData\\Local\\Programs\\Python\\Python312\\Lib\\site-packages\\sklearn\\preprocessing\\_label.py:97: DataConversionWarning: A column-vector y was passed when a 1d array was expected. Please change the shape of y to (n_samples, ), for example using ravel().\n",
      "  y = column_or_1d(y, warn=True)\n",
      "c:\\Users\\wu\\AppData\\Local\\Programs\\Python\\Python312\\Lib\\site-packages\\sklearn\\preprocessing\\_label.py:132: DataConversionWarning: A column-vector y was passed when a 1d array was expected. Please change the shape of y to (n_samples, ), for example using ravel().\n",
      "  y = column_or_1d(y, dtype=self.classes_.dtype, warn=True)\n"
     ]
    },
    {
     "name": "stdout",
     "output_type": "stream",
     "text": [
      "13times finish\n",
      "AUC: 0.97\n"
     ]
    },
    {
     "name": "stderr",
     "output_type": "stream",
     "text": [
      "c:\\Users\\wu\\AppData\\Local\\Programs\\Python\\Python312\\Lib\\site-packages\\sklearn\\preprocessing\\_label.py:97: DataConversionWarning: A column-vector y was passed when a 1d array was expected. Please change the shape of y to (n_samples, ), for example using ravel().\n",
      "  y = column_or_1d(y, warn=True)\n",
      "c:\\Users\\wu\\AppData\\Local\\Programs\\Python\\Python312\\Lib\\site-packages\\sklearn\\preprocessing\\_label.py:132: DataConversionWarning: A column-vector y was passed when a 1d array was expected. Please change the shape of y to (n_samples, ), for example using ravel().\n",
      "  y = column_or_1d(y, dtype=self.classes_.dtype, warn=True)\n"
     ]
    },
    {
     "name": "stdout",
     "output_type": "stream",
     "text": [
      "14times finish\n",
      "AUC: 0.77\n"
     ]
    },
    {
     "name": "stderr",
     "output_type": "stream",
     "text": [
      "c:\\Users\\wu\\AppData\\Local\\Programs\\Python\\Python312\\Lib\\site-packages\\sklearn\\preprocessing\\_label.py:97: DataConversionWarning: A column-vector y was passed when a 1d array was expected. Please change the shape of y to (n_samples, ), for example using ravel().\n",
      "  y = column_or_1d(y, warn=True)\n",
      "c:\\Users\\wu\\AppData\\Local\\Programs\\Python\\Python312\\Lib\\site-packages\\sklearn\\preprocessing\\_label.py:132: DataConversionWarning: A column-vector y was passed when a 1d array was expected. Please change the shape of y to (n_samples, ), for example using ravel().\n",
      "  y = column_or_1d(y, dtype=self.classes_.dtype, warn=True)\n"
     ]
    },
    {
     "name": "stdout",
     "output_type": "stream",
     "text": [
      "15times finish\n",
      "AUC: 0.90\n"
     ]
    },
    {
     "name": "stderr",
     "output_type": "stream",
     "text": [
      "c:\\Users\\wu\\AppData\\Local\\Programs\\Python\\Python312\\Lib\\site-packages\\sklearn\\preprocessing\\_label.py:97: DataConversionWarning: A column-vector y was passed when a 1d array was expected. Please change the shape of y to (n_samples, ), for example using ravel().\n",
      "  y = column_or_1d(y, warn=True)\n",
      "c:\\Users\\wu\\AppData\\Local\\Programs\\Python\\Python312\\Lib\\site-packages\\sklearn\\preprocessing\\_label.py:132: DataConversionWarning: A column-vector y was passed when a 1d array was expected. Please change the shape of y to (n_samples, ), for example using ravel().\n",
      "  y = column_or_1d(y, dtype=self.classes_.dtype, warn=True)\n"
     ]
    },
    {
     "name": "stdout",
     "output_type": "stream",
     "text": [
      "16times finish\n",
      "AUC: 0.72\n"
     ]
    },
    {
     "name": "stderr",
     "output_type": "stream",
     "text": [
      "c:\\Users\\wu\\AppData\\Local\\Programs\\Python\\Python312\\Lib\\site-packages\\sklearn\\preprocessing\\_label.py:97: DataConversionWarning: A column-vector y was passed when a 1d array was expected. Please change the shape of y to (n_samples, ), for example using ravel().\n",
      "  y = column_or_1d(y, warn=True)\n",
      "c:\\Users\\wu\\AppData\\Local\\Programs\\Python\\Python312\\Lib\\site-packages\\sklearn\\preprocessing\\_label.py:132: DataConversionWarning: A column-vector y was passed when a 1d array was expected. Please change the shape of y to (n_samples, ), for example using ravel().\n",
      "  y = column_or_1d(y, dtype=self.classes_.dtype, warn=True)\n"
     ]
    },
    {
     "name": "stdout",
     "output_type": "stream",
     "text": [
      "17times finish\n",
      "AUC: 0.96\n"
     ]
    },
    {
     "name": "stderr",
     "output_type": "stream",
     "text": [
      "c:\\Users\\wu\\AppData\\Local\\Programs\\Python\\Python312\\Lib\\site-packages\\sklearn\\preprocessing\\_label.py:97: DataConversionWarning: A column-vector y was passed when a 1d array was expected. Please change the shape of y to (n_samples, ), for example using ravel().\n",
      "  y = column_or_1d(y, warn=True)\n",
      "c:\\Users\\wu\\AppData\\Local\\Programs\\Python\\Python312\\Lib\\site-packages\\sklearn\\preprocessing\\_label.py:132: DataConversionWarning: A column-vector y was passed when a 1d array was expected. Please change the shape of y to (n_samples, ), for example using ravel().\n",
      "  y = column_or_1d(y, dtype=self.classes_.dtype, warn=True)\n"
     ]
    },
    {
     "name": "stdout",
     "output_type": "stream",
     "text": [
      "18times finish\n",
      "AUC: 0.75\n"
     ]
    },
    {
     "name": "stderr",
     "output_type": "stream",
     "text": [
      "c:\\Users\\wu\\AppData\\Local\\Programs\\Python\\Python312\\Lib\\site-packages\\sklearn\\preprocessing\\_label.py:97: DataConversionWarning: A column-vector y was passed when a 1d array was expected. Please change the shape of y to (n_samples, ), for example using ravel().\n",
      "  y = column_or_1d(y, warn=True)\n",
      "c:\\Users\\wu\\AppData\\Local\\Programs\\Python\\Python312\\Lib\\site-packages\\sklearn\\preprocessing\\_label.py:132: DataConversionWarning: A column-vector y was passed when a 1d array was expected. Please change the shape of y to (n_samples, ), for example using ravel().\n",
      "  y = column_or_1d(y, dtype=self.classes_.dtype, warn=True)\n"
     ]
    },
    {
     "name": "stdout",
     "output_type": "stream",
     "text": [
      "19times finish\n",
      "AUC: 1.00\n"
     ]
    },
    {
     "name": "stderr",
     "output_type": "stream",
     "text": [
      "c:\\Users\\wu\\AppData\\Local\\Programs\\Python\\Python312\\Lib\\site-packages\\sklearn\\preprocessing\\_label.py:97: DataConversionWarning: A column-vector y was passed when a 1d array was expected. Please change the shape of y to (n_samples, ), for example using ravel().\n",
      "  y = column_or_1d(y, warn=True)\n",
      "c:\\Users\\wu\\AppData\\Local\\Programs\\Python\\Python312\\Lib\\site-packages\\sklearn\\preprocessing\\_label.py:132: DataConversionWarning: A column-vector y was passed when a 1d array was expected. Please change the shape of y to (n_samples, ), for example using ravel().\n",
      "  y = column_or_1d(y, dtype=self.classes_.dtype, warn=True)\n"
     ]
    },
    {
     "name": "stdout",
     "output_type": "stream",
     "text": [
      "20times finish\n",
      "AUC: 0.75\n"
     ]
    },
    {
     "name": "stderr",
     "output_type": "stream",
     "text": [
      "c:\\Users\\wu\\AppData\\Local\\Programs\\Python\\Python312\\Lib\\site-packages\\sklearn\\preprocessing\\_label.py:97: DataConversionWarning: A column-vector y was passed when a 1d array was expected. Please change the shape of y to (n_samples, ), for example using ravel().\n",
      "  y = column_or_1d(y, warn=True)\n",
      "c:\\Users\\wu\\AppData\\Local\\Programs\\Python\\Python312\\Lib\\site-packages\\sklearn\\preprocessing\\_label.py:132: DataConversionWarning: A column-vector y was passed when a 1d array was expected. Please change the shape of y to (n_samples, ), for example using ravel().\n",
      "  y = column_or_1d(y, dtype=self.classes_.dtype, warn=True)\n"
     ]
    },
    {
     "name": "stdout",
     "output_type": "stream",
     "text": [
      "21times finish\n",
      "AUC: 0.87\n"
     ]
    },
    {
     "name": "stderr",
     "output_type": "stream",
     "text": [
      "c:\\Users\\wu\\AppData\\Local\\Programs\\Python\\Python312\\Lib\\site-packages\\sklearn\\preprocessing\\_label.py:97: DataConversionWarning: A column-vector y was passed when a 1d array was expected. Please change the shape of y to (n_samples, ), for example using ravel().\n",
      "  y = column_or_1d(y, warn=True)\n",
      "c:\\Users\\wu\\AppData\\Local\\Programs\\Python\\Python312\\Lib\\site-packages\\sklearn\\preprocessing\\_label.py:132: DataConversionWarning: A column-vector y was passed when a 1d array was expected. Please change the shape of y to (n_samples, ), for example using ravel().\n",
      "  y = column_or_1d(y, dtype=self.classes_.dtype, warn=True)\n"
     ]
    },
    {
     "name": "stdout",
     "output_type": "stream",
     "text": [
      "22times finish\n",
      "AUC: 0.93\n"
     ]
    },
    {
     "name": "stderr",
     "output_type": "stream",
     "text": [
      "c:\\Users\\wu\\AppData\\Local\\Programs\\Python\\Python312\\Lib\\site-packages\\sklearn\\preprocessing\\_label.py:97: DataConversionWarning: A column-vector y was passed when a 1d array was expected. Please change the shape of y to (n_samples, ), for example using ravel().\n",
      "  y = column_or_1d(y, warn=True)\n",
      "c:\\Users\\wu\\AppData\\Local\\Programs\\Python\\Python312\\Lib\\site-packages\\sklearn\\preprocessing\\_label.py:132: DataConversionWarning: A column-vector y was passed when a 1d array was expected. Please change the shape of y to (n_samples, ), for example using ravel().\n",
      "  y = column_or_1d(y, dtype=self.classes_.dtype, warn=True)\n"
     ]
    },
    {
     "name": "stdout",
     "output_type": "stream",
     "text": [
      "23times finish\n",
      "AUC: 0.80\n"
     ]
    },
    {
     "name": "stderr",
     "output_type": "stream",
     "text": [
      "c:\\Users\\wu\\AppData\\Local\\Programs\\Python\\Python312\\Lib\\site-packages\\sklearn\\preprocessing\\_label.py:97: DataConversionWarning: A column-vector y was passed when a 1d array was expected. Please change the shape of y to (n_samples, ), for example using ravel().\n",
      "  y = column_or_1d(y, warn=True)\n",
      "c:\\Users\\wu\\AppData\\Local\\Programs\\Python\\Python312\\Lib\\site-packages\\sklearn\\preprocessing\\_label.py:132: DataConversionWarning: A column-vector y was passed when a 1d array was expected. Please change the shape of y to (n_samples, ), for example using ravel().\n",
      "  y = column_or_1d(y, dtype=self.classes_.dtype, warn=True)\n"
     ]
    },
    {
     "name": "stdout",
     "output_type": "stream",
     "text": [
      "24times finish\n",
      "AUC: 0.71\n"
     ]
    },
    {
     "name": "stderr",
     "output_type": "stream",
     "text": [
      "c:\\Users\\wu\\AppData\\Local\\Programs\\Python\\Python312\\Lib\\site-packages\\sklearn\\preprocessing\\_label.py:97: DataConversionWarning: A column-vector y was passed when a 1d array was expected. Please change the shape of y to (n_samples, ), for example using ravel().\n",
      "  y = column_or_1d(y, warn=True)\n",
      "c:\\Users\\wu\\AppData\\Local\\Programs\\Python\\Python312\\Lib\\site-packages\\sklearn\\preprocessing\\_label.py:132: DataConversionWarning: A column-vector y was passed when a 1d array was expected. Please change the shape of y to (n_samples, ), for example using ravel().\n",
      "  y = column_or_1d(y, dtype=self.classes_.dtype, warn=True)\n"
     ]
    },
    {
     "name": "stdout",
     "output_type": "stream",
     "text": [
      "25times finish\n",
      "AUC: 0.89\n"
     ]
    },
    {
     "name": "stderr",
     "output_type": "stream",
     "text": [
      "c:\\Users\\wu\\AppData\\Local\\Programs\\Python\\Python312\\Lib\\site-packages\\sklearn\\preprocessing\\_label.py:97: DataConversionWarning: A column-vector y was passed when a 1d array was expected. Please change the shape of y to (n_samples, ), for example using ravel().\n",
      "  y = column_or_1d(y, warn=True)\n",
      "c:\\Users\\wu\\AppData\\Local\\Programs\\Python\\Python312\\Lib\\site-packages\\sklearn\\preprocessing\\_label.py:132: DataConversionWarning: A column-vector y was passed when a 1d array was expected. Please change the shape of y to (n_samples, ), for example using ravel().\n",
      "  y = column_or_1d(y, dtype=self.classes_.dtype, warn=True)\n"
     ]
    },
    {
     "name": "stdout",
     "output_type": "stream",
     "text": [
      "26times finish\n",
      "AUC: 1.00\n"
     ]
    },
    {
     "name": "stderr",
     "output_type": "stream",
     "text": [
      "c:\\Users\\wu\\AppData\\Local\\Programs\\Python\\Python312\\Lib\\site-packages\\sklearn\\preprocessing\\_label.py:97: DataConversionWarning: A column-vector y was passed when a 1d array was expected. Please change the shape of y to (n_samples, ), for example using ravel().\n",
      "  y = column_or_1d(y, warn=True)\n",
      "c:\\Users\\wu\\AppData\\Local\\Programs\\Python\\Python312\\Lib\\site-packages\\sklearn\\preprocessing\\_label.py:132: DataConversionWarning: A column-vector y was passed when a 1d array was expected. Please change the shape of y to (n_samples, ), for example using ravel().\n",
      "  y = column_or_1d(y, dtype=self.classes_.dtype, warn=True)\n"
     ]
    },
    {
     "name": "stdout",
     "output_type": "stream",
     "text": [
      "27times finish\n",
      "AUC: 0.80\n"
     ]
    },
    {
     "name": "stderr",
     "output_type": "stream",
     "text": [
      "c:\\Users\\wu\\AppData\\Local\\Programs\\Python\\Python312\\Lib\\site-packages\\sklearn\\preprocessing\\_label.py:97: DataConversionWarning: A column-vector y was passed when a 1d array was expected. Please change the shape of y to (n_samples, ), for example using ravel().\n",
      "  y = column_or_1d(y, warn=True)\n",
      "c:\\Users\\wu\\AppData\\Local\\Programs\\Python\\Python312\\Lib\\site-packages\\sklearn\\preprocessing\\_label.py:132: DataConversionWarning: A column-vector y was passed when a 1d array was expected. Please change the shape of y to (n_samples, ), for example using ravel().\n",
      "  y = column_or_1d(y, dtype=self.classes_.dtype, warn=True)\n"
     ]
    },
    {
     "name": "stdout",
     "output_type": "stream",
     "text": [
      "28times finish\n",
      "AUC: 0.77\n"
     ]
    },
    {
     "name": "stderr",
     "output_type": "stream",
     "text": [
      "c:\\Users\\wu\\AppData\\Local\\Programs\\Python\\Python312\\Lib\\site-packages\\sklearn\\preprocessing\\_label.py:97: DataConversionWarning: A column-vector y was passed when a 1d array was expected. Please change the shape of y to (n_samples, ), for example using ravel().\n",
      "  y = column_or_1d(y, warn=True)\n",
      "c:\\Users\\wu\\AppData\\Local\\Programs\\Python\\Python312\\Lib\\site-packages\\sklearn\\preprocessing\\_label.py:132: DataConversionWarning: A column-vector y was passed when a 1d array was expected. Please change the shape of y to (n_samples, ), for example using ravel().\n",
      "  y = column_or_1d(y, dtype=self.classes_.dtype, warn=True)\n"
     ]
    },
    {
     "name": "stdout",
     "output_type": "stream",
     "text": [
      "29times finish\n",
      "AUC: 1.00\n"
     ]
    },
    {
     "name": "stderr",
     "output_type": "stream",
     "text": [
      "c:\\Users\\wu\\AppData\\Local\\Programs\\Python\\Python312\\Lib\\site-packages\\sklearn\\preprocessing\\_label.py:97: DataConversionWarning: A column-vector y was passed when a 1d array was expected. Please change the shape of y to (n_samples, ), for example using ravel().\n",
      "  y = column_or_1d(y, warn=True)\n",
      "c:\\Users\\wu\\AppData\\Local\\Programs\\Python\\Python312\\Lib\\site-packages\\sklearn\\preprocessing\\_label.py:132: DataConversionWarning: A column-vector y was passed when a 1d array was expected. Please change the shape of y to (n_samples, ), for example using ravel().\n",
      "  y = column_or_1d(y, dtype=self.classes_.dtype, warn=True)\n"
     ]
    },
    {
     "name": "stdout",
     "output_type": "stream",
     "text": [
      "30times finish\n",
      "AUC: 0.81\n"
     ]
    },
    {
     "name": "stderr",
     "output_type": "stream",
     "text": [
      "c:\\Users\\wu\\AppData\\Local\\Programs\\Python\\Python312\\Lib\\site-packages\\sklearn\\preprocessing\\_label.py:97: DataConversionWarning: A column-vector y was passed when a 1d array was expected. Please change the shape of y to (n_samples, ), for example using ravel().\n",
      "  y = column_or_1d(y, warn=True)\n",
      "c:\\Users\\wu\\AppData\\Local\\Programs\\Python\\Python312\\Lib\\site-packages\\sklearn\\preprocessing\\_label.py:132: DataConversionWarning: A column-vector y was passed when a 1d array was expected. Please change the shape of y to (n_samples, ), for example using ravel().\n",
      "  y = column_or_1d(y, dtype=self.classes_.dtype, warn=True)\n"
     ]
    },
    {
     "name": "stdout",
     "output_type": "stream",
     "text": [
      "31times finish\n",
      "AUC: 0.76\n"
     ]
    },
    {
     "name": "stderr",
     "output_type": "stream",
     "text": [
      "c:\\Users\\wu\\AppData\\Local\\Programs\\Python\\Python312\\Lib\\site-packages\\sklearn\\preprocessing\\_label.py:97: DataConversionWarning: A column-vector y was passed when a 1d array was expected. Please change the shape of y to (n_samples, ), for example using ravel().\n",
      "  y = column_or_1d(y, warn=True)\n",
      "c:\\Users\\wu\\AppData\\Local\\Programs\\Python\\Python312\\Lib\\site-packages\\sklearn\\preprocessing\\_label.py:132: DataConversionWarning: A column-vector y was passed when a 1d array was expected. Please change the shape of y to (n_samples, ), for example using ravel().\n",
      "  y = column_or_1d(y, dtype=self.classes_.dtype, warn=True)\n"
     ]
    },
    {
     "name": "stdout",
     "output_type": "stream",
     "text": [
      "32times finish\n",
      "AUC: 0.98\n"
     ]
    },
    {
     "name": "stderr",
     "output_type": "stream",
     "text": [
      "c:\\Users\\wu\\AppData\\Local\\Programs\\Python\\Python312\\Lib\\site-packages\\sklearn\\preprocessing\\_label.py:97: DataConversionWarning: A column-vector y was passed when a 1d array was expected. Please change the shape of y to (n_samples, ), for example using ravel().\n",
      "  y = column_or_1d(y, warn=True)\n",
      "c:\\Users\\wu\\AppData\\Local\\Programs\\Python\\Python312\\Lib\\site-packages\\sklearn\\preprocessing\\_label.py:132: DataConversionWarning: A column-vector y was passed when a 1d array was expected. Please change the shape of y to (n_samples, ), for example using ravel().\n",
      "  y = column_or_1d(y, dtype=self.classes_.dtype, warn=True)\n"
     ]
    },
    {
     "name": "stdout",
     "output_type": "stream",
     "text": [
      "33times finish\n",
      "AUC: 0.95\n"
     ]
    },
    {
     "name": "stderr",
     "output_type": "stream",
     "text": [
      "c:\\Users\\wu\\AppData\\Local\\Programs\\Python\\Python312\\Lib\\site-packages\\sklearn\\preprocessing\\_label.py:97: DataConversionWarning: A column-vector y was passed when a 1d array was expected. Please change the shape of y to (n_samples, ), for example using ravel().\n",
      "  y = column_or_1d(y, warn=True)\n",
      "c:\\Users\\wu\\AppData\\Local\\Programs\\Python\\Python312\\Lib\\site-packages\\sklearn\\preprocessing\\_label.py:132: DataConversionWarning: A column-vector y was passed when a 1d array was expected. Please change the shape of y to (n_samples, ), for example using ravel().\n",
      "  y = column_or_1d(y, dtype=self.classes_.dtype, warn=True)\n"
     ]
    },
    {
     "name": "stdout",
     "output_type": "stream",
     "text": [
      "34times finish\n",
      "AUC: 0.77\n"
     ]
    },
    {
     "name": "stderr",
     "output_type": "stream",
     "text": [
      "c:\\Users\\wu\\AppData\\Local\\Programs\\Python\\Python312\\Lib\\site-packages\\sklearn\\preprocessing\\_label.py:97: DataConversionWarning: A column-vector y was passed when a 1d array was expected. Please change the shape of y to (n_samples, ), for example using ravel().\n",
      "  y = column_or_1d(y, warn=True)\n",
      "c:\\Users\\wu\\AppData\\Local\\Programs\\Python\\Python312\\Lib\\site-packages\\sklearn\\preprocessing\\_label.py:132: DataConversionWarning: A column-vector y was passed when a 1d array was expected. Please change the shape of y to (n_samples, ), for example using ravel().\n",
      "  y = column_or_1d(y, dtype=self.classes_.dtype, warn=True)\n"
     ]
    },
    {
     "name": "stdout",
     "output_type": "stream",
     "text": [
      "35times finish\n",
      "AUC: 0.97\n"
     ]
    },
    {
     "name": "stderr",
     "output_type": "stream",
     "text": [
      "c:\\Users\\wu\\AppData\\Local\\Programs\\Python\\Python312\\Lib\\site-packages\\sklearn\\preprocessing\\_label.py:97: DataConversionWarning: A column-vector y was passed when a 1d array was expected. Please change the shape of y to (n_samples, ), for example using ravel().\n",
      "  y = column_or_1d(y, warn=True)\n",
      "c:\\Users\\wu\\AppData\\Local\\Programs\\Python\\Python312\\Lib\\site-packages\\sklearn\\preprocessing\\_label.py:132: DataConversionWarning: A column-vector y was passed when a 1d array was expected. Please change the shape of y to (n_samples, ), for example using ravel().\n",
      "  y = column_or_1d(y, dtype=self.classes_.dtype, warn=True)\n"
     ]
    },
    {
     "name": "stdout",
     "output_type": "stream",
     "text": [
      "36times finish\n",
      "AUC: 1.00\n"
     ]
    },
    {
     "name": "stderr",
     "output_type": "stream",
     "text": [
      "c:\\Users\\wu\\AppData\\Local\\Programs\\Python\\Python312\\Lib\\site-packages\\sklearn\\preprocessing\\_label.py:97: DataConversionWarning: A column-vector y was passed when a 1d array was expected. Please change the shape of y to (n_samples, ), for example using ravel().\n",
      "  y = column_or_1d(y, warn=True)\n",
      "c:\\Users\\wu\\AppData\\Local\\Programs\\Python\\Python312\\Lib\\site-packages\\sklearn\\preprocessing\\_label.py:132: DataConversionWarning: A column-vector y was passed when a 1d array was expected. Please change the shape of y to (n_samples, ), for example using ravel().\n",
      "  y = column_or_1d(y, dtype=self.classes_.dtype, warn=True)\n"
     ]
    },
    {
     "name": "stdout",
     "output_type": "stream",
     "text": [
      "37times finish\n",
      "AUC: 0.89\n"
     ]
    },
    {
     "name": "stderr",
     "output_type": "stream",
     "text": [
      "c:\\Users\\wu\\AppData\\Local\\Programs\\Python\\Python312\\Lib\\site-packages\\sklearn\\preprocessing\\_label.py:97: DataConversionWarning: A column-vector y was passed when a 1d array was expected. Please change the shape of y to (n_samples, ), for example using ravel().\n",
      "  y = column_or_1d(y, warn=True)\n",
      "c:\\Users\\wu\\AppData\\Local\\Programs\\Python\\Python312\\Lib\\site-packages\\sklearn\\preprocessing\\_label.py:132: DataConversionWarning: A column-vector y was passed when a 1d array was expected. Please change the shape of y to (n_samples, ), for example using ravel().\n",
      "  y = column_or_1d(y, dtype=self.classes_.dtype, warn=True)\n"
     ]
    },
    {
     "name": "stdout",
     "output_type": "stream",
     "text": [
      "38times finish\n",
      "AUC: 1.00\n"
     ]
    },
    {
     "name": "stderr",
     "output_type": "stream",
     "text": [
      "c:\\Users\\wu\\AppData\\Local\\Programs\\Python\\Python312\\Lib\\site-packages\\sklearn\\preprocessing\\_label.py:97: DataConversionWarning: A column-vector y was passed when a 1d array was expected. Please change the shape of y to (n_samples, ), for example using ravel().\n",
      "  y = column_or_1d(y, warn=True)\n",
      "c:\\Users\\wu\\AppData\\Local\\Programs\\Python\\Python312\\Lib\\site-packages\\sklearn\\preprocessing\\_label.py:132: DataConversionWarning: A column-vector y was passed when a 1d array was expected. Please change the shape of y to (n_samples, ), for example using ravel().\n",
      "  y = column_or_1d(y, dtype=self.classes_.dtype, warn=True)\n",
      "c:\\Users\\wu\\AppData\\Local\\Programs\\Python\\Python312\\Lib\\site-packages\\sklearn\\model_selection\\_split.py:776: UserWarning: The least populated class in y has only 9 members, which is less than n_splits=10.\n",
      "  warnings.warn(\n",
      "c:\\Users\\wu\\AppData\\Local\\Programs\\Python\\Python312\\Lib\\site-packages\\sklearn\\model_selection\\_split.py:776: UserWarning: The least populated class in y has only 9 members, which is less than n_splits=10.\n",
      "  warnings.warn(\n",
      "c:\\Users\\wu\\AppData\\Local\\Programs\\Python\\Python312\\Lib\\site-packages\\sklearn\\model_selection\\_split.py:776: UserWarning: The least populated class in y has only 9 members, which is less than n_splits=10.\n",
      "  warnings.warn(\n"
     ]
    },
    {
     "name": "stdout",
     "output_type": "stream",
     "text": [
      "39times finish\n",
      "AUC: 1.00\n"
     ]
    },
    {
     "name": "stderr",
     "output_type": "stream",
     "text": [
      "c:\\Users\\wu\\AppData\\Local\\Programs\\Python\\Python312\\Lib\\site-packages\\sklearn\\preprocessing\\_label.py:97: DataConversionWarning: A column-vector y was passed when a 1d array was expected. Please change the shape of y to (n_samples, ), for example using ravel().\n",
      "  y = column_or_1d(y, warn=True)\n",
      "c:\\Users\\wu\\AppData\\Local\\Programs\\Python\\Python312\\Lib\\site-packages\\sklearn\\preprocessing\\_label.py:132: DataConversionWarning: A column-vector y was passed when a 1d array was expected. Please change the shape of y to (n_samples, ), for example using ravel().\n",
      "  y = column_or_1d(y, dtype=self.classes_.dtype, warn=True)\n"
     ]
    },
    {
     "name": "stdout",
     "output_type": "stream",
     "text": [
      "40times finish\n",
      "AUC: 0.81\n"
     ]
    },
    {
     "name": "stderr",
     "output_type": "stream",
     "text": [
      "c:\\Users\\wu\\AppData\\Local\\Programs\\Python\\Python312\\Lib\\site-packages\\sklearn\\preprocessing\\_label.py:97: DataConversionWarning: A column-vector y was passed when a 1d array was expected. Please change the shape of y to (n_samples, ), for example using ravel().\n",
      "  y = column_or_1d(y, warn=True)\n",
      "c:\\Users\\wu\\AppData\\Local\\Programs\\Python\\Python312\\Lib\\site-packages\\sklearn\\preprocessing\\_label.py:132: DataConversionWarning: A column-vector y was passed when a 1d array was expected. Please change the shape of y to (n_samples, ), for example using ravel().\n",
      "  y = column_or_1d(y, dtype=self.classes_.dtype, warn=True)\n"
     ]
    },
    {
     "name": "stdout",
     "output_type": "stream",
     "text": [
      "41times finish\n",
      "AUC: 0.89\n"
     ]
    },
    {
     "name": "stderr",
     "output_type": "stream",
     "text": [
      "c:\\Users\\wu\\AppData\\Local\\Programs\\Python\\Python312\\Lib\\site-packages\\sklearn\\preprocessing\\_label.py:97: DataConversionWarning: A column-vector y was passed when a 1d array was expected. Please change the shape of y to (n_samples, ), for example using ravel().\n",
      "  y = column_or_1d(y, warn=True)\n",
      "c:\\Users\\wu\\AppData\\Local\\Programs\\Python\\Python312\\Lib\\site-packages\\sklearn\\preprocessing\\_label.py:132: DataConversionWarning: A column-vector y was passed when a 1d array was expected. Please change the shape of y to (n_samples, ), for example using ravel().\n",
      "  y = column_or_1d(y, dtype=self.classes_.dtype, warn=True)\n"
     ]
    },
    {
     "name": "stdout",
     "output_type": "stream",
     "text": [
      "42times finish\n",
      "AUC: 1.00\n"
     ]
    },
    {
     "name": "stderr",
     "output_type": "stream",
     "text": [
      "c:\\Users\\wu\\AppData\\Local\\Programs\\Python\\Python312\\Lib\\site-packages\\sklearn\\preprocessing\\_label.py:97: DataConversionWarning: A column-vector y was passed when a 1d array was expected. Please change the shape of y to (n_samples, ), for example using ravel().\n",
      "  y = column_or_1d(y, warn=True)\n",
      "c:\\Users\\wu\\AppData\\Local\\Programs\\Python\\Python312\\Lib\\site-packages\\sklearn\\preprocessing\\_label.py:132: DataConversionWarning: A column-vector y was passed when a 1d array was expected. Please change the shape of y to (n_samples, ), for example using ravel().\n",
      "  y = column_or_1d(y, dtype=self.classes_.dtype, warn=True)\n"
     ]
    },
    {
     "name": "stdout",
     "output_type": "stream",
     "text": [
      "43times finish\n",
      "AUC: 0.95\n"
     ]
    },
    {
     "name": "stderr",
     "output_type": "stream",
     "text": [
      "c:\\Users\\wu\\AppData\\Local\\Programs\\Python\\Python312\\Lib\\site-packages\\sklearn\\preprocessing\\_label.py:97: DataConversionWarning: A column-vector y was passed when a 1d array was expected. Please change the shape of y to (n_samples, ), for example using ravel().\n",
      "  y = column_or_1d(y, warn=True)\n",
      "c:\\Users\\wu\\AppData\\Local\\Programs\\Python\\Python312\\Lib\\site-packages\\sklearn\\preprocessing\\_label.py:132: DataConversionWarning: A column-vector y was passed when a 1d array was expected. Please change the shape of y to (n_samples, ), for example using ravel().\n",
      "  y = column_or_1d(y, dtype=self.classes_.dtype, warn=True)\n"
     ]
    },
    {
     "name": "stdout",
     "output_type": "stream",
     "text": [
      "44times finish\n",
      "AUC: 0.92\n"
     ]
    },
    {
     "name": "stderr",
     "output_type": "stream",
     "text": [
      "c:\\Users\\wu\\AppData\\Local\\Programs\\Python\\Python312\\Lib\\site-packages\\sklearn\\preprocessing\\_label.py:97: DataConversionWarning: A column-vector y was passed when a 1d array was expected. Please change the shape of y to (n_samples, ), for example using ravel().\n",
      "  y = column_or_1d(y, warn=True)\n",
      "c:\\Users\\wu\\AppData\\Local\\Programs\\Python\\Python312\\Lib\\site-packages\\sklearn\\preprocessing\\_label.py:132: DataConversionWarning: A column-vector y was passed when a 1d array was expected. Please change the shape of y to (n_samples, ), for example using ravel().\n",
      "  y = column_or_1d(y, dtype=self.classes_.dtype, warn=True)\n"
     ]
    },
    {
     "name": "stdout",
     "output_type": "stream",
     "text": [
      "45times finish\n",
      "AUC: 0.92\n"
     ]
    },
    {
     "name": "stderr",
     "output_type": "stream",
     "text": [
      "c:\\Users\\wu\\AppData\\Local\\Programs\\Python\\Python312\\Lib\\site-packages\\sklearn\\preprocessing\\_label.py:97: DataConversionWarning: A column-vector y was passed when a 1d array was expected. Please change the shape of y to (n_samples, ), for example using ravel().\n",
      "  y = column_or_1d(y, warn=True)\n",
      "c:\\Users\\wu\\AppData\\Local\\Programs\\Python\\Python312\\Lib\\site-packages\\sklearn\\preprocessing\\_label.py:132: DataConversionWarning: A column-vector y was passed when a 1d array was expected. Please change the shape of y to (n_samples, ), for example using ravel().\n",
      "  y = column_or_1d(y, dtype=self.classes_.dtype, warn=True)\n"
     ]
    },
    {
     "name": "stdout",
     "output_type": "stream",
     "text": [
      "46times finish\n",
      "AUC: 0.95\n"
     ]
    },
    {
     "name": "stderr",
     "output_type": "stream",
     "text": [
      "c:\\Users\\wu\\AppData\\Local\\Programs\\Python\\Python312\\Lib\\site-packages\\sklearn\\preprocessing\\_label.py:97: DataConversionWarning: A column-vector y was passed when a 1d array was expected. Please change the shape of y to (n_samples, ), for example using ravel().\n",
      "  y = column_or_1d(y, warn=True)\n",
      "c:\\Users\\wu\\AppData\\Local\\Programs\\Python\\Python312\\Lib\\site-packages\\sklearn\\preprocessing\\_label.py:132: DataConversionWarning: A column-vector y was passed when a 1d array was expected. Please change the shape of y to (n_samples, ), for example using ravel().\n",
      "  y = column_or_1d(y, dtype=self.classes_.dtype, warn=True)\n"
     ]
    },
    {
     "name": "stdout",
     "output_type": "stream",
     "text": [
      "47times finish\n",
      "AUC: 0.81\n"
     ]
    },
    {
     "name": "stderr",
     "output_type": "stream",
     "text": [
      "c:\\Users\\wu\\AppData\\Local\\Programs\\Python\\Python312\\Lib\\site-packages\\sklearn\\preprocessing\\_label.py:97: DataConversionWarning: A column-vector y was passed when a 1d array was expected. Please change the shape of y to (n_samples, ), for example using ravel().\n",
      "  y = column_or_1d(y, warn=True)\n",
      "c:\\Users\\wu\\AppData\\Local\\Programs\\Python\\Python312\\Lib\\site-packages\\sklearn\\preprocessing\\_label.py:132: DataConversionWarning: A column-vector y was passed when a 1d array was expected. Please change the shape of y to (n_samples, ), for example using ravel().\n",
      "  y = column_or_1d(y, dtype=self.classes_.dtype, warn=True)\n"
     ]
    },
    {
     "name": "stdout",
     "output_type": "stream",
     "text": [
      "48times finish\n",
      "AUC: 0.83\n"
     ]
    }
   ],
   "source": [
    "y_predicts=[]\n",
    "for i in range(len(dataset_names)):\n",
    "    X_train_part, X_valid, y_train_part, y_valid = train_test_split(X_trains[i], y_trains[i], test_size=0.2, random_state=42)\n",
    "    \n",
    "    # 準備基模型\n",
    "    base_models = [  \n",
    "        ('rf', RandomForestClassifier(n_estimators=100, random_state=42)),\n",
    "        ('gb', GradientBoostingClassifier(n_estimators=100, learning_rate=0.1, max_depth=3, random_state=42)),\n",
    "        ('xgb', xgb.XGBClassifier(n_estimators=100, learning_rate=0.1, max_depth=3, random_state=42))\n",
    "    ]\n",
    "\n",
    "    # 準備次級模型\n",
    "    meta_model = LogisticRegression()\n",
    "\n",
    "    # 初始化Stacking Classifier\n",
    "    stacking_model = StackingClassifier(estimators=base_models, final_estimator=meta_model, cv=10)\n",
    "\n",
    "    # 訓練Stacking Classifier\n",
    "    stacking_model.fit(X_train_part, y_train_part)\n",
    "\n",
    "    # 使用驗證集進行預測\n",
    "    y_pred = stacking_model.predict(X_valid)\n",
    "    y_pred_proba = stacking_model.predict_proba(X_valid)[:, 1] \n",
    "\n",
    "    # 評估模型\n",
    "    accuracy = accuracy_score(y_valid, y_pred)\n",
    "    # f1 = f1_score(y_valid, y_pred, average='weighted')\n",
    "    # precision = precision_score(y_valid, y_pred, average='weighted')\n",
    "\n",
    "    # print(f\"Accuracy: {accuracy:.2f}\")\n",
    "    # print(f\"F1 Score: {f1:.2f}\")\n",
    "    # print(f\"Precision: {precision:.2f}\")\n",
    "    print(f\"{i}times finish\")\n",
    "    print(f\"AUC: {accuracy:.2f}\")\n",
    "\n",
    "    # 使用訓練好的Stacking模型來預測X_test並儲存結果\n",
    "    y_test_pred = stacking_model.predict_proba(X_tests[i])[:, 1] \n",
    "    df = pd.DataFrame(y_test_pred, columns=['y_predict_proba'])\n",
    "    y_predicts.append(df)\n"
   ]
  },
  {
   "cell_type": "markdown",
   "metadata": {},
   "source": [
    "## Save result"
   ]
  },
  {
   "cell_type": "code",
   "execution_count": null,
   "metadata": {},
   "outputs": [],
   "source": [
    "for idx,dataset_name in enumerate(dataset_names):\n",
    "    df=y_predicts[idx]\n",
    "    df.to_csv(f'./Competition_data/{dataset_name}/y_predict.csv', index=False,header=True)"
   ]
  }
 ],
 "metadata": {
  "kernelspec": {
   "display_name": "Python 3",
   "language": "python",
   "name": "python3"
  },
  "language_info": {
   "codemirror_mode": {
    "name": "ipython",
    "version": 3
   },
   "file_extension": ".py",
   "mimetype": "text/x-python",
   "name": "python",
   "nbconvert_exporter": "python",
   "pygments_lexer": "ipython3",
   "version": "3.12.2"
  }
 },
 "nbformat": 4,
 "nbformat_minor": 2
}
